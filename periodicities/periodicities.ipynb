{
 "cells": [
  {
   "cell_type": "markdown",
   "id": "742e8594",
   "metadata": {},
   "source": [
    "The main goal of this document will be to explore polynomial dynamical systems on the integers modulo $N$. That is, consider a polynomial $f(x)$, and view it as a dynamical system on $\\mathbb{Z}/N\\mathbb{Z}$ by iteratively applying it. What can we say, for instance, about the resulting orbits?"
   ]
  },
  {
   "cell_type": "code",
   "execution_count": 1,
   "id": "c4486435",
   "metadata": {},
   "outputs": [],
   "source": [
    "import matplotlib.pyplot as plt\n",
    "import math"
   ]
  },
  {
   "cell_type": "markdown",
   "id": "4f6407cd",
   "metadata": {},
   "source": [
    "The simplest polynomials that we can analyse are $f(x) = x + n$ for some integer constant $n$. It doesn't take much thought to understand its orbits modulo $N$. But now let's consider polynomials such as $f(x) = 2x$. What happens in that case?"
   ]
  },
  {
   "cell_type": "code",
   "execution_count": 2,
   "id": "04fd95a4",
   "metadata": {},
   "outputs": [],
   "source": [
    "def stable_orbit(f, N, x):\n",
    "    \"\"\"Given a (say polynomial) function f, a number N, and a starting value x, we iteratively apply x = f(x) mod N until we end up in a loop. We return that loop.\"\"\"\n",
    "    x = x % N\n",
    "    values = [x]\n",
    "    for _ in range(N):\n",
    "        x = f(x) % N\n",
    "        try:\n",
    "            #If we find an x that has already been obtained previously, then we have obviously found the stable orbit.\n",
    "            find = values.index(x)\n",
    "            return values[find :: ]\n",
    "        except ValueError:\n",
    "            values.append(x)\n",
    "    return []"
   ]
  },
  {
   "cell_type": "code",
   "execution_count": 3,
   "id": "716d73d1",
   "metadata": {},
   "outputs": [],
   "source": [
    "def f(x):\n",
    "    return 2*x\n",
    "\n",
    "max_value = 1000\n",
    "data = [len(stable_orbit(f, N, 1)) for N in range(1, max_value + 1)]"
   ]
  },
  {
   "cell_type": "code",
   "execution_count": 4,
   "id": "8da54611",
   "metadata": {},
   "outputs": [
    {
     "data": {
      "image/png": "[encoded data removed]",
      "text/plain": [
       "<Figure size 432x288 with 1 Axes>"
      ]
     },
     "metadata": {
      "needs_background": "light"
     },
     "output_type": "display_data"
    }
   ],
   "source": [
    "plt.scatter(range(1, max_value + 1), data, s = 2)\n",
    "plt.show()"
   ]
  },
  {
   "cell_type": "markdown",
   "id": "46fe1621",
   "metadata": {},
   "source": [
    "That's a pretty cool plot. One thing we see is that there are some obvious lines appearing in this graph. Indeed there are numerous $N$ for which the length of the stable orbit is equal to $N - 1$:"
   ]
  },
  {
   "cell_type": "code",
   "execution_count": 5,
   "id": "9d4b9139",
   "metadata": {},
   "outputs": [
    {
     "name": "stdout",
     "output_type": "stream",
     "text": [
      "[2, 3, 5, 11, 13, 19, 29, 37, 53, 59, 61, 67, 83, 101, 107, 131, 139, 149, 163, 173, 179, 181, 197, 211, 227, 269, 293, 317, 347, 349, 373, 379, 389, 419, 421, 443, 461, 467, 491, 509, 523, 541, 547, 557, 563, 587, 613, 619, 653, 659, 661, 677, 701, 709, 757, 773, 787, 797, 821, 827, 829, 853, 859, 877, 883, 907, 941, 947]\n"
     ]
    }
   ],
   "source": [
    "max_orbits = [i + 1 for i in range(max_value) if data[i] == i]\n",
    "print(max_orbits)"
   ]
  },
  {
   "cell_type": "markdown",
   "id": "28f6ad66",
   "metadata": {},
   "source": [
    "With the exception of $N = 2$, a number is in this list if and only if $N$ is prime and $2$ is a primitive root mod $N$. It is a famous conjecture of Artin that there are infinitely many such prime numbers. This conjecture is known to follow from the generalised Riemann hypothesis. With that in mind, it's safe to say that we know just as little about the lines with other slopes in the plot.\n",
    "\n",
    "One additional thing that stands out is that there are some random values lying in between the line of slope $1$ and the line of slope $1/2$. These turn out to be prime powers. For instance, if $N = 625 = 5^4$, then we find the length of the stable period to be $500$, while if $N = 729 = 3^6$, then the length is $486$.\n",
    "\n",
    "Now, what we can say about the number of stable orbits? That is, instead of starting at $0$, consider all starting values and look at their stable orbits."
   ]
  },
  {
   "cell_type": "code",
   "execution_count": 6,
   "id": "864bf890",
   "metadata": {},
   "outputs": [],
   "source": [
    "def count_stable_orbits(f, N):\n",
    "    \"\"\"Count the number of stable orbits of the function x -> f(x) % N.\"\"\"\n",
    "    found_in_orbit = {x : False for x in range(N)} #We keep track of those numbers for which we already know what stable orbit it lands into. This avoids quite a bit of redundancy.\n",
    "    count = 0\n",
    "    for x in range(N):\n",
    "        if not found_in_orbit[x]:\n",
    "            values = [x]\n",
    "            while True: \n",
    "                x = f(x) % N\n",
    "                if found_in_orbit[x]:\n",
    "                    break\n",
    "                elif x in values:\n",
    "                    for value in values:\n",
    "                        found_in_orbit[value] = True\n",
    "                    count += 1\n",
    "                    break\n",
    "                else:\n",
    "                    values.append(x)\n",
    "    return count"
   ]
  },
  {
   "cell_type": "markdown",
   "id": "cb95ff4d",
   "metadata": {},
   "source": [
    "This is a much more data-intensive operation, since, at least in principle, we can have to consider every starting value. The code has been optimised to avoid redundancy as much as I can, but it remains painful."
   ]
  },
  {
   "cell_type": "code",
   "execution_count": 7,
   "id": "ade8d8e2",
   "metadata": {},
   "outputs": [],
   "source": [
    "max_value = 1000\n",
    "data = [count_stable_orbits(f, N) for N in range(1, max_value + 1)]"
   ]
  },
  {
   "cell_type": "code",
   "execution_count": 8,
   "id": "9ca42ac1",
   "metadata": {},
   "outputs": [
    {
     "name": "stdout",
     "output_type": "stream",
     "text": [
      "First couple of values: [1, 1, 2, 1, 2, 2, 3, 1, 3, 2, 2, 2, 2, 3, 5, 1, 3, 3, 2, 2, 6]\n"
     ]
    },
    {
     "data": {
      "image/png": "[encoded data removed]",
      "text/plain": [
       "<Figure size 432x288 with 1 Axes>"
      ]
     },
     "metadata": {
      "needs_background": "light"
     },
     "output_type": "display_data"
    }
   ],
   "source": [
    "plt.scatter(range(1, max_value + 1), data, s = 2)\n",
    "print(\"First couple of values:\", data[:21])\n",
    "plt.show()"
   ]
  },
  {
   "cell_type": "markdown",
   "id": "5adaceb1",
   "metadata": {},
   "source": [
    "The sequence can be found in OEIS as A000374. It's mentioned that it is equal to the number of irreducible factors in the factorization of the polynomial $x^N - 1$ over $\\mathbb{F}_2$, which is pretty cool."
   ]
  },
  {
   "cell_type": "markdown",
   "id": "5b8096b6",
   "metadata": {},
   "source": [
    "One thing worth noting is that we don't really need to make use of the mulitplicative structure of the integers modulo $N$ when defining this dynamical system. That is, instead of writing $x \\mapsto 2x$, we can write $x \\mapsto x + x$. It's tempting to ask how this system behaves over general monoids. Notably, when applied to the multiplicative units of $\\mathbb{Z} / p\\mathbb{Z}$, we would get the behaviour of the polynomial $f(x) = x^2$. In a separate file I will use GAP to investigate the behaviour of this system."
   ]
  },
  {
   "cell_type": "markdown",
   "id": "9bd1b5d3",
   "metadata": {},
   "source": [
    "The observation above completely break down if instead we consider a system that somehow mixes up addition and multiplication. So let's consider a polynomial like $f(x) = x^2 + 1$, with starting value $0$, and let's just see where that gets us."
   ]
  },
  {
   "cell_type": "code",
   "execution_count": 9,
   "id": "febc38cf",
   "metadata": {},
   "outputs": [
    {
     "name": "stdout",
     "output_type": "stream",
     "text": [
      "[0]\n",
      "[0, 1]\n",
      "[2]\n",
      "[1, 2]\n",
      "[0, 1, 2]\n",
      "[2, 5]\n",
      "[5]\n",
      "[2, 5]\n",
      "[2, 5, 8]\n",
      "[0, 1, 2, 5, 6, 7]\n",
      "[4, 6]\n",
      "[2, 5]\n",
      "[0, 1, 2, 5]\n",
      "[5, 12]\n",
      "[2, 5, 11]\n",
      "[5, 10]\n",
      "[2, 5, 9, 14, 10, 16]\n",
      "[2, 5, 8, 11, 14, 17]\n",
      "[12]\n",
      "[1, 2, 5, 6, 17, 10]\n",
      "[5]\n",
      "[4, 17]\n",
      "[9, 13]\n",
      "[2, 5]\n",
      "[1, 2, 5]\n",
      "[0, 1, 2, 5]\n",
      "[2, 5, 26]\n",
      "[5, 26]\n",
      "[7, 21]\n",
      "[2, 5, 26, 17, 20, 11]\n",
      "[26]\n",
      "[5, 26]\n",
      "[26, 17]\n",
      "[2, 5, 26, 31, 10, 33]\n",
      "[5, 26, 12]\n",
      "[2, 5, 26, 29, 14, 17]\n",
      "[11]\n",
      "[31, 12]\n",
      "[2, 5, 26, 14]\n",
      "[2, 5, 26, 37, 10, 21]\n"
     ]
    }
   ],
   "source": [
    "def f(x):\n",
    "    return x**2 + 1\n",
    "\n",
    "for N in range(1, 41):\n",
    "    print(stable_orbit(f, N, 0))"
   ]
  },
  {
   "cell_type": "markdown",
   "id": "bcc2beb0",
   "metadata": {},
   "source": [
    "That seems elegantly chaotic! What happens when we just look at the lengths of the stable orbits?"
   ]
  },
  {
   "cell_type": "code",
   "execution_count": 10,
   "id": "586cd535",
   "metadata": {},
   "outputs": [],
   "source": [
    "max_value = 100000\n",
    "data = [len(stable_orbit(f, N, 0)) for N in range(1, max_value + 1)]"
   ]
  },
  {
   "cell_type": "code",
   "execution_count": 11,
   "id": "ca46d522",
   "metadata": {},
   "outputs": [
    {
     "data": {
      "image/png": "[encoded data removed]",
      "text/plain": [
       "<Figure size 432x288 with 1 Axes>"
      ]
     },
     "metadata": {
      "needs_background": "light"
     },
     "output_type": "display_data"
    }
   ],
   "source": [
    "plt.scatter(range(1, max_value + 1), data, s = 2)\n",
    "plt.show()"
   ]
  },
  {
   "cell_type": "markdown",
   "id": "f1ef486c",
   "metadata": {},
   "source": [
    "It may look a little better on a log-plot."
   ]
  },
  {
   "cell_type": "code",
   "execution_count": 12,
   "id": "690a77b2",
   "metadata": {},
   "outputs": [
    {
     "data": {
      "image/png": "[encoded data removed]",
      "text/plain": [
       "<Figure size 432x288 with 1 Axes>"
      ]
     },
     "metadata": {
      "needs_background": "light"
     },
     "output_type": "display_data"
    }
   ],
   "source": [
    "log_data = [math.log(n) for n in data]\n",
    "plt.scatter(range(1, max_value + 1), log_data, s = 2)\n",
    "plt.show()"
   ]
  },
  {
   "cell_type": "markdown",
   "id": "ca3318de",
   "metadata": {},
   "source": [
    "I don't know what one can say about the growth of this function in general. Let's denote the function by $L(N)$. It's not hard to show that $L$ commutes with least common multiples, in that\n",
    "\n",
    "$$ L(\\operatorname{lcm}(M,N)) = \\operatorname{lcm}(L(M), L(N)). $$\n",
    "\n",
    "There doesn't seem to be any nontrivial lower bound, because even for large $N$, there seem to be many stable periods of length $1$. That this can happen is not too surprising; indeed, there are numerous solutions to the equation $x = x^2 + 1$ mod $N$ in general. Still, the infinitude of $N$ such that $L(N) = 1$ is not obvious to me, because it's not clear when exactly the orbit of $0$ will reach such a value.\n",
    "\n",
    "What about an upper bound? Surely there should be something that we can say, right? For trivial reasons, we know that $L(N) \\leq N$. How strong is this bound?"
   ]
  },
  {
   "cell_type": "code",
   "execution_count": 13,
   "id": "6ae72d7b",
   "metadata": {},
   "outputs": [
    {
     "data": {
      "image/png": "[encoded data removed]",
      "text/plain": [
       "<Figure size 432x288 with 1 Axes>"
      ]
     },
     "metadata": {
      "needs_background": "light"
     },
     "output_type": "display_data"
    }
   ],
   "source": [
    "quotient_data = [data[n]/(n + 1) for n in range(max_value)]\n",
    "plt.scatter(range(1, max_value + 1), quotient_data, s = 2)\n",
    "plt.show()"
   ]
  },
  {
   "cell_type": "markdown",
   "id": "3edca865",
   "metadata": {},
   "source": [
    "I'm quite surprised at how 'close to sharp' this upper bound already is. Yes, most values of $L(N)$ are much less than $N$, but there are some obvious occasional outliers. Even at $N = 75\\,000$ one finds values for which $L(N) / N$ is above $0.1$. "
   ]
  },
  {
   "cell_type": "markdown",
   "id": "fdfc1406",
   "metadata": {},
   "source": [
    "What if we count the number of stable orbits in general? That is, instead of starting at $0$, consider all starting values and look at their stable orbits."
   ]
  },
  {
   "cell_type": "code",
   "execution_count": 14,
   "id": "7632e4f1",
   "metadata": {},
   "outputs": [],
   "source": [
    "def count_stable_orbits(f, N):\n",
    "    \"\"\"Count the number of stable orbits of the function x -> f(x) % N.\"\"\"\n",
    "    found_in_orbit = {x : False for x in range(N)} #We keep track of those numbers for which we already know what stable orbit it lands into. This avoids quite a bit of redundancy.\n",
    "    count = 0\n",
    "    for x in range(N):\n",
    "        if not found_in_orbit[x]:\n",
    "            values = [x]\n",
    "            while True: \n",
    "                x = f(x) % N\n",
    "                if found_in_orbit[x]:\n",
    "                    break\n",
    "                elif x in values:\n",
    "                    for value in values:\n",
    "                        found_in_orbit[value] = True\n",
    "                    count += 1\n",
    "                    break\n",
    "                else:\n",
    "                    values.append(x)\n",
    "    return count"
   ]
  },
  {
   "cell_type": "markdown",
   "id": "fcf554db",
   "metadata": {},
   "source": [
    "This is a much more data-intensive operation, since, at least in principle, we can have to consider every starting value. The code has been optimised to avoid redundancy, but it is still rather slow. Since I plan to submit this sequence to the OEIS, I will upload a faster script written in C in the near future."
   ]
  },
  {
   "cell_type": "code",
   "execution_count": 15,
   "id": "d70e7e8c",
   "metadata": {},
   "outputs": [],
   "source": [
    "max_value = 1000\n",
    "data = [count_stable_orbits(f, N) for N in range(1, max_value + 1)]"
   ]
  },
  {
   "cell_type": "code",
   "execution_count": 16,
   "id": "08b69128",
   "metadata": {},
   "outputs": [
    {
     "data": {
      "image/png": "[encoded data removed]",
      "text/plain": [
       "<Figure size 432x288 with 1 Axes>"
      ]
     },
     "metadata": {
      "needs_background": "light"
     },
     "output_type": "display_data"
    }
   ],
   "source": [
    "plt.scatter(range(1, max_value + 1), data, s = 2)\n",
    "plt.show()"
   ]
  },
  {
   "cell_type": "markdown",
   "id": "ebeaa1ac",
   "metadata": {},
   "source": [
    "Can we say anything about the *sizes* of the various stable orbits?"
   ]
  },
  {
   "cell_type": "code",
   "execution_count": 17,
   "id": "0efbe8d0",
   "metadata": {},
   "outputs": [],
   "source": [
    "def stable_orbit_sizes(f, N):\n",
    "    \"\"\"Count the siezs of the stable orbits of the function x -> f(x) % N.\"\"\"\n",
    "    found_in_orbit = {x : False for x in range(N)} #We keep track of those numbers for which we already know what stable orbit it lands into. This avoids quite a bit of redundancy.\n",
    "    sizes = []\n",
    "    for x in range(N):\n",
    "        if not found_in_orbit[x]:\n",
    "            values = [x]\n",
    "            while True: \n",
    "                x = f(x) % N\n",
    "                if found_in_orbit[x]:\n",
    "                    break\n",
    "                else:\n",
    "                    try:\n",
    "                        find = values.index(x)\n",
    "                        sizes.append(len(values) - find)\n",
    "                        for value in values:\n",
    "                            found_in_orbit[value] = True\n",
    "                        break\n",
    "                    except ValueError:\n",
    "                        values.append(x)\n",
    "    return sizes"
   ]
  },
  {
   "cell_type": "markdown",
   "id": "6b8a2e5b",
   "metadata": {},
   "source": [
    "Let's take some random values in some arbitrary interval:"
   ]
  },
  {
   "cell_type": "code",
   "execution_count": 18,
   "id": "c7dd080e",
   "metadata": {
    "scrolled": false
   },
   "outputs": [
    {
     "name": "stdout",
     "output_type": "stream",
     "text": [
      "N = 20240 : [6, 6, 6, 6]\n",
      "N = 20241 : [12, 12, 12, 12, 12, 12]\n",
      "N = 20242 : [58, 58, 2, 2, 2, 2]\n",
      "N = 20243 : [9, 9, 16, 9, 9, 9, 5, 15, 2, 3, 5, 3, 48, 3, 16, 3, 3, 6, 2]\n",
      "N = 20244 : [26, 26, 8, 8, 2, 2, 8, 8, 2, 2]\n",
      "N = 20245 : [54, 54, 54]\n",
      "N = 20246 : [30, 30, 6, 6, 6, 6, 2, 6, 6, 2, 2, 2]\n",
      "N = 20247 : [174, 6, 6]\n",
      "N = 20248 : [14, 22, 22, 38, 6, 6, 2, 2, 4, 6, 4]\n",
      "N = 20249 : [68, 17, 30, 24]\n",
      "N = 20250 : [18, 18, 18, 18, 18, 18, 18, 18, 18]\n",
      "N = 20251 : [26, 26, 26, 26, 4, 4, 4, 4, 2, 2, 2, 2]\n",
      "N = 20252 : [10, 10, 10, 10, 10, 10, 10, 10, 10, 10, 10, 10]\n",
      "N = 20253 : [1, 3, 6, 6, 1, 6, 6, 2, 1, 1, 6, 2, 3]\n",
      "N = 20254 : [28, 14, 14, 28, 28, 28, 14, 14]\n",
      "N = 20255 : [114, 12, 3, 3]\n",
      "N = 20256 : [6, 6, 14, 2, 2, 2, 2, 10]\n",
      "N = 20257 : [12, 6, 4, 6, 12, 4, 6, 6]\n",
      "N = 20258 : [18, 30, 30, 30, 18, 30, 2, 2, 2, 2]\n",
      "N = 20259 : [45, 45, 45, 3, 6, 12, 3]\n",
      "N = 20260 : [102, 42, 30, 6, 6, 6, 30, 6, 6, 30, 12, 12, 6]\n",
      "N = 20261 : [56, 51, 16, 5]\n",
      "N = 20262 : [2, 2, 6, 6, 2, 6, 6, 2]\n",
      "N = 20263 : [82, 18]\n",
      "N = 20264 : [42, 42, 42, 24, 24, 42, 24, 24, 6, 6, 6, 6]\n",
      "N = 20265 : [24, 3, 24, 3, 3, 6, 3, 6]\n",
      "N = 20266 : [8, 90, 8, 2, 2]\n",
      "N = 20267 : [92, 23, 23, 12, 6, 12, 6]\n",
      "N = 20268 : [30, 30, 6, 30, 6, 6, 6, 6, 6, 30]\n",
      "N = 20269 : [209, 2, 1, 4, 4, 1]\n",
      "N = 20270 : [210, 174, 66, 6, 66, 6, 6, 6, 6]\n",
      "N = 20271 : [2, 10, 14, 10, 14, 2]\n",
      "N = 20272 : [14, 14, 14, 14, 10, 2, 2, 10, 2, 2]\n",
      "N = 20273 : [6, 4, 6, 4, 2, 2, 4, 2, 4, 2]\n",
      "N = 20274 : [2, 6, 2, 2, 6, 2, 2, 2, 6, 6, 2, 2]\n",
      "N = 20275 : [33, 21, 42, 33, 21, 33, 12, 3, 3]\n",
      "N = 20276 : [34, 34, 2, 6, 34, 34, 2, 6, 2, 2, 2, 6, 6, 2, 2, 2]\n",
      "N = 20277 : [30, 30, 6, 30, 12, 12, 3, 3, 3, 12, 3, 3, 3, 6, 3, 3, 3, 3, 3, 3, 3, 6, 3, 3]\n",
      "N = 20278 : [82, 82, 24, 24]\n",
      "N = 20279 : [41, 41, 7, 7, 4, 5, 5, 3, 3, 4, 3, 3]\n"
     ]
    }
   ],
   "source": [
    "def f(x):\n",
    "    return x**2 + 1\n",
    "\n",
    "for N in range(20240, 20280):\n",
    "    print(\"N =\", N, \":\", stable_orbit_sizes(f, N))"
   ]
  },
  {
   "cell_type": "markdown",
   "id": "37c69143",
   "metadata": {},
   "source": [
    "I find it incredible how much repetition occurs in the periods of the orbits, not to mention how many orbit lengths are scalar multiples of each other. It strongly suggests the presence of a certain symmetry governing the dynamical system. What might that symmetry be?"
   ]
  }
 ],
 "metadata": {
  "kernelspec": {
   "display_name": "Python 3 (ipykernel)",
   "language": "python",
   "name": "python3"
  },
  "language_info": {
   "codemirror_mode": {
    "name": "ipython",
    "version": 3
   },
   "file_extension": ".py",
   "mimetype": "text/x-python",
   "name": "python",
   "nbconvert_exporter": "python",
   "pygments_lexer": "ipython3",
   "version": "3.10.4"
  }
 },
 "nbformat": 4,
 "nbformat_minor": 5
}
