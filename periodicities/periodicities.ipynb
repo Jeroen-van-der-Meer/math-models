{
 "cells": [
  {
   "cell_type": "markdown",
   "id": "742e8594",
   "metadata": {},
   "source": [
    "The main goal of this document will be to explore polynomial dynamical systems on the integers modulo $N$. That is, consider a polynomial $f(x)$, and view it as a dynamical system on $\\mathbb{Z}/N\\mathbb{Z}$ by iteratively applying it. What can we say, for instance, about the resulting orbits?"
   ]
  },
  {
   "cell_type": "code",
   "execution_count": null,
   "id": "c4486435",
   "metadata": {},
   "outputs": [],
   "source": [
    "import matplotlib.pyplot as plt\n",
    "import math"
   ]
  },
  {
   "cell_type": "markdown",
   "id": "4f6407cd",
   "metadata": {},
   "source": [
    "The simplest polynomials that we can analyse are $f(x) = x + n$ for some integer constant $n$. It doesn't take much thought to understand its orbits modulo $N$. But now let's consider polynomials such as $f(x) = 2x$. What happens in that case?"
   ]
  },
  {
   "cell_type": "code",
   "execution_count": null,
   "id": "04fd95a4",
   "metadata": {},
   "outputs": [],
   "source": [
    "def stable_orbit(f, N, x):\n",
    "    \"\"\"Given a (say polynomial) function f, a number N, and a starting value x, we iteratively apply x = f(x) mod N until we end up in a loop. We return that loop.\"\"\"\n",
    "    x = x % N\n",
    "    values = [x]\n",
    "    for _ in range(N):\n",
    "        x = f(x) % N\n",
    "        try:\n",
    "            #If we find an x that has already been obtained previously, then we have obviously found the stable orbit.\n",
    "            find = values.index(x)\n",
    "            return values[find :: ]\n",
    "        except ValueError:\n",
    "            values.append(x)\n",
    "    return []"
   ]
  },
  {
   "cell_type": "code",
   "execution_count": null,
   "id": "716d73d1",
   "metadata": {},
   "outputs": [],
   "source": [
    "def f(x):\n",
    "    return 2*x\n",
    "\n",
    "max_value = 1000\n",
    "data = [len(stable_orbit(f, N, 1)) for N in range(1, max_value + 1)]"
   ]
  },
  {
   "cell_type": "code",
   "execution_count": null,
   "id": "8da54611",
   "metadata": {},
   "outputs": [],
   "source": [
    "plt.scatter(range(1, max_value + 1), data, s = 2)\n",
    "plt.show()"
   ]
  },
  {
   "cell_type": "markdown",
   "id": "46fe1621",
   "metadata": {},
   "source": [
    "That's a pretty cool plot. One thing we see is that there are some obvious lines appearing in this graph. Indeed there are numerous $N$ for which the length of the stable orbit is equal to $N - 1$:"
   ]
  },
  {
   "cell_type": "code",
   "execution_count": null,
   "id": "9d4b9139",
   "metadata": {},
   "outputs": [],
   "source": [
    "max_orbits = [i + 1 for i in range(max_value) if data[i] == i]\n",
    "print(max_orbits)"
   ]
  },
  {
   "cell_type": "markdown",
   "id": "28f6ad66",
   "metadata": {},
   "source": [
    "With the exception of $N = 2$, a number is in this list if and only if $N$ is prime and $2$ is a primitive root mod $N$. It is a famous conjecture of Artin that there are infinitely many such prime numbers. This conjecture is known to follow from the generalised Riemann hypothesis. With that in mind, it's safe to say that we know just as little about the lines with other slopes in the plot.\n",
    "\n",
    "One additional thing that stands out is that there are some random values lying in between the line of slope $1$ and the line of slope $1/2$. These turn out to be prime powers. For instance, if $N = 625 = 5^4$, then we find the length of the stable period to be $500$, while if $N = 729 = 3^6$, then the length is $486$.\n",
    "\n",
    "Now, what we can say about the number of stable orbits? That is, instead of starting at $0$, consider all starting values and look at their stable orbits."
   ]
  },
  {
   "cell_type": "code",
   "execution_count": null,
   "id": "864bf890",
   "metadata": {},
   "outputs": [],
   "source": [
    "def count_stable_orbits(f, N):\n",
    "    \"\"\"Count the number of stable orbits of the function x -> f(x) % N.\"\"\"\n",
    "    found_in_orbit = {x : False for x in range(N)} #We keep track of those numbers for which we already know what stable orbit it lands into. This avoids quite a bit of redundancy.\n",
    "    count = 0\n",
    "    for x in range(N):\n",
    "        if not found_in_orbit[x]:\n",
    "            values = [x]\n",
    "            while True: \n",
    "                x = f(x) % N\n",
    "                if found_in_orbit[x]:\n",
    "                    break\n",
    "                elif x in values:\n",
    "                    for value in values:\n",
    "                        found_in_orbit[value] = True\n",
    "                    count += 1\n",
    "                    break\n",
    "                else:\n",
    "                    values.append(x)\n",
    "    return count"
   ]
  },
  {
   "cell_type": "markdown",
   "id": "cb95ff4d",
   "metadata": {},
   "source": [
    "This is a much more data-intensive operation, since, at least in principle, we can have to consider every starting value. The code has been optimised to avoid redundancy as much as I can, but it remains painful."
   ]
  },
  {
   "cell_type": "code",
   "execution_count": null,
   "id": "ade8d8e2",
   "metadata": {},
   "outputs": [],
   "source": [
    "max_value = 1000\n",
    "data = [count_stable_orbits(f, N) for N in range(1, max_value + 1)]"
   ]
  },
  {
   "cell_type": "code",
   "execution_count": null,
   "id": "9ca42ac1",
   "metadata": {},
   "outputs": [],
   "source": [
    "plt.scatter(range(1, max_value + 1), data, s = 2)\n",
    "print(\"First couple of values:\", data[:21])\n",
    "plt.show()"
   ]
  },
  {
   "cell_type": "markdown",
   "id": "5adaceb1",
   "metadata": {},
   "source": [
    "The sequence can be found in OEIS as A000374. It's mentioned that it is equal to the number of irreducible factors in the factorization of the polynomial $x^N - 1$ over $\\mathbb{F}_2$, which is pretty cool."
   ]
  },
  {
   "cell_type": "markdown",
   "id": "5b8096b6",
   "metadata": {},
   "source": [
    "One thing worth noting is that we don't really need to make use of the mulitplicative structure of the integers modulo $N$ when defining this dynamical system. That is, instead of writing $x \\mapsto 2x$, we can write $x \\mapsto x + x$. It's tempting to ask how this system behaves over general monoids. Notably, when applied to the multiplicative units of $\\mathbb{Z} / p\\mathbb{Z}$, we would get the behaviour of the polynomial $f(x) = x^2$. In a separate file I will use GAP to investigate the behaviour of this system."
   ]
  },
  {
   "cell_type": "markdown",
   "id": "9bd1b5d3",
   "metadata": {},
   "source": [
    "The observation above completely break down if instead we consider a system that somehow mixes up addition and multiplication. So let's consider a polynomial like $f(x) = x^2 + 1$, with starting value $0$, and let's just see where that gets us."
   ]
  },
  {
   "cell_type": "code",
   "execution_count": null,
   "id": "febc38cf",
   "metadata": {},
   "outputs": [],
   "source": [
    "def f(x):\n",
    "    return x**2 + 1\n",
    "\n",
    "for N in range(1, 41):\n",
    "    print(stable_orbit(f, N, 0))"
   ]
  },
  {
   "cell_type": "markdown",
   "id": "bcc2beb0",
   "metadata": {},
   "source": [
    "That seems elegantly chaotic! What happens when we just look at the lengths of the stable orbits?"
   ]
  },
  {
   "cell_type": "code",
   "execution_count": null,
   "id": "586cd535",
   "metadata": {},
   "outputs": [],
   "source": [
    "max_value = 100000\n",
    "data = [len(stable_orbit(f, N, 0)) for N in range(1, max_value + 1)]"
   ]
  },
  {
   "cell_type": "code",
   "execution_count": null,
   "id": "ca46d522",
   "metadata": {},
   "outputs": [],
   "source": [
    "plt.scatter(range(1, max_value + 1), data, s = 2)\n",
    "plt.show()"
   ]
  },
  {
   "cell_type": "markdown",
   "id": "f1ef486c",
   "metadata": {},
   "source": [
    "It may look a little better on a log-plot."
   ]
  },
  {
   "cell_type": "code",
   "execution_count": null,
   "id": "690a77b2",
   "metadata": {},
   "outputs": [],
   "source": [
    "log_data = [math.log(n) for n in data]\n",
    "plt.scatter(range(1, max_value + 1), log_data, s = 2)\n",
    "plt.show()"
   ]
  },
  {
   "cell_type": "markdown",
   "id": "ca3318de",
   "metadata": {},
   "source": [
    "I don't know what one can say about the growth of this function in general. Let's denote the function by $L(N)$. It's not hard to show that $L$ commutes with least common multiples, in that\n",
    "\n",
    "$$ L(\\operatorname{lcm}(M,N)) = \\operatorname{lcm}(L(M), L(N)). $$\n",
    "\n",
    "There doesn't seem to be any nontrivial lower bound, because even for large $N$, there seem to be many stable periods of length $1$. That this can happen is not too surprising; indeed, there are numerous solutions to the equation $x = x^2 + 1$ mod $N$ in general. Still, the infinitude of $N$ such that $L(N) = 1$ is not obvious to me, because it's not clear when exactly the orbit of $0$ will reach such a value.\n",
    "\n",
    "What about an upper bound? Surely there should be something that we can say, right? For trivial reasons, we know that $L(N) \\leq N$. How strong is this bound?"
   ]
  },
  {
   "cell_type": "code",
   "execution_count": null,
   "id": "6ae72d7b",
   "metadata": {},
   "outputs": [],
   "source": [
    "quotient_data = [data[n]/(n + 1) for n in range(max_value)]\n",
    "plt.scatter(range(1, max_value + 1), quotient_data, s = 2)\n",
    "plt.show()"
   ]
  },
  {
   "cell_type": "markdown",
   "id": "3edca865",
   "metadata": {},
   "source": [
    "I'm quite surprised at how 'close to sharp' this upper bound already is. Yes, most values of $L(N)$ are much less than $N$, but there are some obvious occasional outliers. Even at $N = 75\\,000$ one finds values for which $L(N) / N$ is above $0.1$. "
   ]
  },
  {
   "cell_type": "markdown",
   "id": "fdfc1406",
   "metadata": {},
   "source": [
    "What if we count the number of stable orbits in general? That is, instead of starting at $0$, consider all starting values and look at their stable orbits."
   ]
  },
  {
   "cell_type": "code",
   "execution_count": null,
   "id": "7632e4f1",
   "metadata": {},
   "outputs": [],
   "source": [
    "def count_stable_orbits(f, N):\n",
    "    \"\"\"Count the number of stable orbits of the function x -> f(x) % N.\"\"\"\n",
    "    found_in_orbit = {x : False for x in range(N)} #We keep track of those numbers for which we already know what stable orbit it lands into. This avoids quite a bit of redundancy.\n",
    "    count = 0\n",
    "    for x in range(N):\n",
    "        if not found_in_orbit[x]:\n",
    "            values = [x]\n",
    "            while True: \n",
    "                x = f(x) % N\n",
    "                if found_in_orbit[x]:\n",
    "                    break\n",
    "                elif x in values:\n",
    "                    for value in values:\n",
    "                        found_in_orbit[value] = True\n",
    "                    count += 1\n",
    "                    break\n",
    "                else:\n",
    "                    values.append(x)\n",
    "    return count"
   ]
  },
  {
   "cell_type": "markdown",
   "id": "fcf554db",
   "metadata": {},
   "source": [
    "This is a much more data-intensive operation, since, at least in principle, we can have to consider every starting value. The code has been optimised to avoid redundancy, but it is still rather slow. Since I plan to submit this sequence to the OEIS, I will upload a faster script written in C in the near future."
   ]
  },
  {
   "cell_type": "code",
   "execution_count": null,
   "id": "d70e7e8c",
   "metadata": {},
   "outputs": [],
   "source": [
    "max_value = 1000\n",
    "data = [count_stable_orbits(f, N) for N in range(1, max_value + 1)]"
   ]
  },
  {
   "cell_type": "code",
   "execution_count": null,
   "id": "08b69128",
   "metadata": {},
   "outputs": [],
   "source": [
    "plt.scatter(range(1, max_value + 1), data, s = 2)\n",
    "plt.show()"
   ]
  },
  {
   "cell_type": "markdown",
   "id": "0dd9ccdb",
   "metadata": {},
   "source": [
    "Can we say anything about the *sizes* of the various stable orbits?"
   ]
  },
  {
   "cell_type": "code",
   "execution_count": null,
   "id": "a80de069",
   "metadata": {},
   "outputs": [],
   "source": [
    "def stable_orbit_sizes(f, N):\n",
    "    \"\"\"Count the siezs of the stable orbits of the function x -> f(x) % N.\"\"\"\n",
    "    found_in_orbit = {x : False for x in range(N)} #We keep track of those numbers for which we already know what stable orbit it lands into. This avoids quite a bit of redundancy.\n",
    "    sizes = []\n",
    "    for x in range(N):\n",
    "        if not found_in_orbit[x]:\n",
    "            values = [x]\n",
    "            while True: \n",
    "                x = f(x) % N\n",
    "                if found_in_orbit[x]:\n",
    "                    break\n",
    "                else:\n",
    "                    try:\n",
    "                        find = values.index(x)\n",
    "                        sizes.append(len(values) - find)\n",
    "                        for value in values:\n",
    "                            found_in_orbit[value] = True\n",
    "                        break\n",
    "                    except ValueError:\n",
    "                        values.append(x)\n",
    "    return sizes"
   ]
  },
  {
   "cell_type": "markdown",
   "id": "eeac39fd",
   "metadata": {},
   "source": [
    "Let's take some random values in some arbitrary interval:"
   ]
  },
  {
   "cell_type": "code",
   "execution_count": null,
   "id": "e97b596c",
   "metadata": {
    "scrolled": false
   },
   "outputs": [],
   "source": [
    "def f(x):\n",
    "    return x**2 + 1\n",
    "\n",
    "for N in range(20240, 20280):\n",
    "    print(\"N =\", N, \":\", stable_orbit_sizes(f, N))"
   ]
  },
  {
   "cell_type": "markdown",
   "id": "f71bb1d8",
   "metadata": {},
   "source": [
    "I find it incredible how much repetition occurs in the periods of the orbits, not to mention how many orbit lengths are scalar multiples of each other. It strongly suggests the presence of a certain symmetry governing the dynamical system. What might that symmetry be?"
   ]
  }
 ],
 "metadata": {
  "kernelspec": {
   "display_name": "Python 3 (ipykernel)",
   "language": "python",
   "name": "python3"
  },
  "language_info": {
   "codemirror_mode": {
    "name": "ipython",
    "version": 3
   },
   "file_extension": ".py",
   "mimetype": "text/x-python",
   "name": "python",
   "nbconvert_exporter": "python",
   "pygments_lexer": "ipython3",
   "version": "3.10.4"
  }
 },
 "nbformat": 4,
 "nbformat_minor": 5
}
