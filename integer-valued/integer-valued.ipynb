{
 "cells": [
  {
   "cell_type": "markdown",
   "id": "4da79a3c",
   "metadata": {},
   "source": [
    "The goal of this document is to analyse the vanishing behaviour of the polynomial $g_d(x) = x(x+1)\\cdots(x+d-1)$ on certain finite rings. The context for asking this is that the polynomial $g_d(x) / d!$ is known to preserve integers, and I'd like to know when it also preserves *rings* of integers $\\mathcal{O}_K$ of a number field $K$. For more on this, see\n",
    "https://meer.gitlab.io/blog-5.html"
   ]
  },
  {
   "cell_type": "markdown",
   "id": "72df9f5c",
   "metadata": {},
   "source": [
    "In the function below, we decide whether or not a given polynomial $g_d(x) = x(x+1)\\cdots(x+d-1)$ vanishes identically on the ring $\\mathbb{Z}/p^N \\mathbb{Z}[\\varepsilon] / (\\varepsilon^e)$. It uses two important optimisations.\n",
    " - The minimal $d$ for which $g_d(x)$ vanishes will be at least $pe$, and will be a multiple of $p$, so we do not bother to check any other value.\n",
    " - It suffices to check that $g_d(\\varepsilon + n) = 0$ for $n = 0,\\ldots,d$. This observation is particularly important, as it provides a performance increase that is exponential in $N$ and $e$. I'll expand on this point below."
   ]
  },
  {
   "cell_type": "code",
   "execution_count": null,
   "id": "3546fe0c",
   "metadata": {},
   "outputs": [],
   "source": [
    "def g_d(d, x, n = 0):\n",
    "    \"\"\"Return the polynomial g_d(x) = (x+n)(x+n+1)...(x+n+d-1).\"\"\"\n",
    "    g_d = 1\n",
    "    for i in range(d):\n",
    "        g_d *= (x + n + i)\n",
    "    return g_d"
   ]
  },
  {
   "cell_type": "code",
   "execution_count": null,
   "id": "291dcc36",
   "metadata": {},
   "outputs": [],
   "source": [
    "def is_zero(d, p, N, e):\n",
    "    \"\"\"Given a polynomial g_d(x) = x(x+1)...(x+d-1), test if g_d vanishes everywhere on the ring Z_{p^N}[epsilon] / (epsilon^e).\"\"\"\n",
    "    #Construction of the ring of interest\n",
    "    q = p**N\n",
    "    R = PolynomialRing(IntegerModRing(q), 'x')\n",
    "    x = R.gen()\n",
    "    Q = R.quotient(x**e) #This is the ring we'll work with\n",
    "    epsilon = Q.gen()\n",
    "    \n",
    "    #Construction of g_d\n",
    "    g = g_d(d, x)\n",
    "        \n",
    "    #All we need to do is evaluate g_d on epsilon + n\n",
    "    for n in range(d + 1):\n",
    "        y = epsilon + n #We must evaluate at a instead of x to make clear to Sage that we want the outcome to land in Q\n",
    "        if g(y) != 0:\n",
    "            return False\n",
    "    return True\n",
    "\n",
    "def least_d(p, N, e):\n",
    "    \"\"\"Check if g_d(x) vanishes of Z_{p^N}[epsilon] / (epsilon^e) for d = 1,2,... until it does, and return that d.\"\"\"\n",
    "    d = p*e\n",
    "    while True:\n",
    "        if is_zero(d, p, N, e):\n",
    "            return d\n",
    "        d += p"
   ]
  },
  {
   "cell_type": "markdown",
   "id": "15e7074d",
   "metadata": {},
   "source": [
    "Now let's crunch some numbers for the first couple of primes. This may take a little while."
   ]
  },
  {
   "cell_type": "code",
   "execution_count": null,
   "id": "6d356fca",
   "metadata": {},
   "outputs": [],
   "source": [
    "for p in [2, 3, 5, 7]:\n",
    "    print(\"p =\", p)\n",
    "    l = [[least_d(p, N, e) for e in range(1, 16)] for N in range(1, 16)]\n",
    "    print(*l, sep='\\n')"
   ]
  },
  {
   "cell_type": "markdown",
   "id": "651b882c",
   "metadata": {},
   "source": [
    "Why does it suffice to evaluate $g_d(\\varepsilon + n)$ for $n = 0,\\ldots,d$? Because it turns out that the space of integer-preserving polynomials of degree $d$ is $(d + 1)$-dimensional, and so the remaining $g_d(\\varepsilon + n)$ for $n > d$ are linearly dependent on the first $d + 1$ polynomials. We can illustrate this with Sage. Let's fix some $d$ and product $d + 2$ polynomials $g_d(x + n)$ for $n = 0,\\ldots,d+1$. Then ask Sage whether we can find a linear combination of these polynomials that produces $0$."
   ]
  },
  {
   "cell_type": "code",
   "execution_count": null,
   "id": "042f3808",
   "metadata": {},
   "outputs": [],
   "source": [
    "d = 5\n",
    "V = QQ^(d + 1) #We have to work rationally for the Sage method to work, but the results are integral\n",
    "#Construct g_d(x + n), take its coefficients. Use 'sparse = False' to include trailing zeros. Convert the list of coefficients into a vector. Assemble them into a list.\n",
    "vectors = [vector(QQ, g_d(d, x, n).coefficients(sparse = False)) for n in range(d + 2)]\n",
    "print(*V.linear_dependence(vectors))"
   ]
  },
  {
   "cell_type": "markdown",
   "id": "c4916009",
   "metadata": {},
   "source": [
    "The way you should read this is that \n",
    "\n",
    "$$ g_5(x) - 6g_5(x+1) + 15g_5(x+2) - 20g_5(x+3) + 15g_5(x+4) - 6g_5(x+5) + g_5(x+6) = 0. $$\n",
    "\n",
    "Notice that these are coefficients are precisely $\\pm {{n}\\choose{6}}$. This is not a coincidence. One thing this implies is that there's a symmetry in the equations which makes me suspect that it suffices to evaluate $g_d(x + n)$ for $n = 0,\\ldots,\\lfloor d/2\\rfloor$. "
   ]
  },
  {
   "cell_type": "markdown",
   "id": "d1e46aad",
   "metadata": {},
   "source": [
    "In fact, for a moment I even suspected that we could optimise the program even further by merely evaluating $g_d(x)$ at just $x = \\varepsilon + 1$. But that turns out not to be the case. As we'll see below, for $p = 3$, $N = 2$ and $e = 2$ we find examples for which the last nontrivial $g_d(x)$ vanishes on $\\varepsilon + 1$."
   ]
  },
  {
   "cell_type": "code",
   "execution_count": null,
   "id": "1fd007f6",
   "metadata": {},
   "outputs": [],
   "source": [
    "from itertools import product\n",
    "\n",
    "p = 3\n",
    "for (N, e) in product(range(1, 6), repeat = 2):\n",
    "    d = least_d(p, N, e) - 1\n",
    "    R = PolynomialRing(IntegerModRing(p**N), 'x')\n",
    "    x = R.gen()\n",
    "    Q = R.quotient(x**e)\n",
    "    epsilon = Q.gen()\n",
    "    g = g_d(d, x)\n",
    "    print(\"(N, e) =\", (N, e), \"\\t\",\n",
    "          \"g(𝜀 + 1) =\", g(epsilon + 1))"
   ]
  },
  {
   "cell_type": "markdown",
   "id": "7b60319e",
   "metadata": {},
   "source": [
    "'xbar' is just what Sage calls the generator of the ring $Q = \\mathbb{Z}_{p^N}[\\varepsilon]$."
   ]
  },
  {
   "cell_type": "markdown",
   "id": "921fe755",
   "metadata": {},
   "source": [
    "As said at the start, the main goal of this document was to understand more about the integer-preserving behaviour of the polynomials $g_d(x) / d!$ in a number field. Let's take some simple number fields and test the behaviour explicitly. We start off with some quadratic number fields. We fix $d = 3$ and we consider the fields $K = \\mathbb{Q}(\\sqrt{m})$ for $m$ between $-B$ and $B$. Which fields $K$ preserve $g_3(x) / 3!$?"
   ]
  },
  {
   "cell_type": "code",
   "execution_count": null,
   "id": "b52d4313",
   "metadata": {},
   "outputs": [],
   "source": [
    "from itertools import product\n",
    "\n",
    "d = 3\n",
    "B = 100\n",
    "\n",
    "def preserves_integers(g, K):\n",
    "    \"\"\"Given a polynomial g(x), check whether or not g preserves the ring of integers of K.\"\"\"\n",
    "    O_K = K.ideal(1)\n",
    "    d = g.degree()\n",
    "    B = O_K.integral_basis()\n",
    "    for prod in product(range(d), repeat = len(B)):\n",
    "        elt = 0\n",
    "        for i in range(len(B)):\n",
    "            elt += prod[i] * B[i]\n",
    "        coords = O_K.coordinates(g(elt))\n",
    "        if not all([x.is_integer() for x in coords]):\n",
    "            return False\n",
    "    return True\n",
    "\n",
    "search_range = []\n",
    "for i in range(-B, B + 1):\n",
    "    if Integer(i).is_squarefree() and i != 1:\n",
    "        search_range.append(i)\n",
    "\n",
    "for m in search_range:\n",
    "    x = polygen(QQ)\n",
    "    K.<a> = NumberField(x^2 - m)\n",
    "    g = g_d(d, x) / d.factorial()\n",
    "    if preserves_integers(g, K):\n",
    "        print(m)"
   ]
  },
  {
   "cell_type": "markdown",
   "id": "eb45be43",
   "metadata": {},
   "source": [
    "Notice that all these numbers are equivalent to $1$ modulo $24$. This is not a coincidence: it turns out that $g_3(x) / 3!$ is well-defined on $\\mathcal{O}_K$ if and only if $(2)$ and $(3)$ are completely split in $K$. Can we also find some cubics with this property? There are of course many more cubics than there are quadratics. But we can just generate some infinite family of them using Eisenstein polynomials."
   ]
  },
  {
   "cell_type": "code",
   "execution_count": null,
   "id": "4e07179b",
   "metadata": {},
   "outputs": [],
   "source": [
    "x = polygen(QQ)\n",
    "for p in [5, 7, 11, 13, 17, 23]:\n",
    "    for n in range(1, 101):\n",
    "        f = x^3 + p*n*x + 6*p #Just some random Eisenstein polynomials\n",
    "        K.<a> = NumberField(f)\n",
    "        #K.decomposition_type(p) returns the decomposition behaviour of (p) in K in a particular format. We extract the splitting behaviour from it.\n",
    "        if K.decomposition_type(2)[0][2] == 3 and K.decomposition_type(3)[0][2] == 3:\n",
    "            print(f)"
   ]
  },
  {
   "cell_type": "markdown",
   "id": "3cb7a336",
   "metadata": {},
   "source": [
    "Let's take one and analyse it up close. Let's look at the precise splitting behaviour of $(2)$ and $(3)$."
   ]
  },
  {
   "cell_type": "code",
   "execution_count": null,
   "id": "39175d48",
   "metadata": {},
   "outputs": [],
   "source": [
    "x = polygen(QQ)\n",
    "K.<a> = NumberField(x^3 + 65*x + 30)\n",
    "print(K.factor(2))\n",
    "print(K.factor(3))"
   ]
  },
  {
   "cell_type": "markdown",
   "id": "801ac4d7",
   "metadata": {},
   "source": [
    "Now write $\\mathcal{O}_K$ for the ring of integers of $K$. We can ask Sage to find an integral basis for it."
   ]
  },
  {
   "cell_type": "code",
   "execution_count": null,
   "id": "141a5a12",
   "metadata": {},
   "outputs": [],
   "source": [
    "O_K = K.ideal(1)\n",
    "B = O_K.integral_basis()\n",
    "B"
   ]
  },
  {
   "cell_type": "markdown",
   "id": "2b6a443f",
   "metadata": {},
   "source": [
    "We can express any element in terms of this integral basis. If the coordinates are themselves integers, then we know that the element is integral."
   ]
  },
  {
   "cell_type": "code",
   "execution_count": null,
   "id": "e0823c42",
   "metadata": {},
   "outputs": [],
   "source": [
    "g = g_d(3, x) / 3.factorial()\n",
    "\n",
    "for prod in product(range(3), repeat = 3):\n",
    "    elt = 0\n",
    "    for i in range(3):\n",
    "        elt += prod[i] * B[i]\n",
    "    coords = O_K.coordinates(g(elt))\n",
    "    print(prod, \"-->\", coords)"
   ]
  },
  {
   "cell_type": "markdown",
   "id": "2e7f9b38",
   "metadata": {},
   "source": [
    "I ended up making the conjecture that $g_d(x) / d!$ is well-defined on $\\mathcal{O}_K$ if and only if all primes $p \\leq d$ are totally split in $K$. One evidence that the conjecture is nontrivial is that there are counterexamples when we take any multiple of this polynomial. Let's see why:"
   ]
  },
  {
   "cell_type": "code",
   "execution_count": null,
   "id": "fa87fe04",
   "metadata": {},
   "outputs": [],
   "source": [
    "g = g_d(7, x) / 7.factorial()\n",
    "\n",
    "x = polygen(QQ)\n",
    "for p in [11, 13, 17]:\n",
    "    for n in range(1, 1001):\n",
    "        f = x^3 + p*n*x + 600*p #Just some random Eisenstein polynomials\n",
    "        K.<a> = NumberField(f)\n",
    "        P = [preserves_integers(g, K), \n",
    "             preserves_integers(2*g, K), \n",
    "             preserves_integers(3*g, K), \n",
    "             preserves_integers(4*g, K),\n",
    "             preserves_integers(5*g, K),\n",
    "             preserves_integers(6*g, K)]\n",
    "        if any(P):\n",
    "            print(p, n, P)"
   ]
  },
  {
   "cell_type": "markdown",
   "id": "e466ed55",
   "metadata": {},
   "source": [
    "The above script produces multiple examples of cubic fields for which $g_7(x) / 7!$ isn't well-defined, but $5 g_7(x) / 7!$ is. Although I was unable to find explicit examples, I would surely expect there to be number fields where only say $3 g_7(x)/7!$ is well-defined."
   ]
  }
 ],
 "metadata": {
  "kernelspec": {
   "display_name": "SageMath 9.5",
   "language": "sage",
   "name": "sagemath"
  },
  "language_info": {
   "codemirror_mode": {
    "name": "ipython",
    "version": 3
   },
   "file_extension": ".py",
   "mimetype": "text/x-python",
   "name": "python",
   "nbconvert_exporter": "python",
   "pygments_lexer": "ipython3",
   "version": "3.10.4"
  }
 },
 "nbformat": 4,
 "nbformat_minor": 5
}
