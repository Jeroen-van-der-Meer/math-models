{
  "nbformat": 4,
  "nbformat_minor": 0,
  "metadata": {
    "colab": {
      "name": "Ross.ipynb",
      "provenance": [],
      "collapsed_sections": []
    },
    "kernelspec": {
      "name": "python3",
      "display_name": "Python 3"
    },
    "language_info": {
      "name": "python"
    }
  },
  "cells": [
    {
      "cell_type": "markdown",
      "metadata": {
        "id": "h89AAGXBNcQY"
      },
      "source": [
        "The great variety of examples makes the book *Introduction to Probability Models* by Sheldon M. Ross, in my opinion, the best of its kind. Many examples I found to be highly fascinating, being both mathematically interesting and inspired by real life.\n",
        "\n",
        "They would often come with some clever mathematical trick --- almost too clever, one might say; for on some occasions the arguments threw me off-guard so much that I had trouble believing it: I needed to see it with my own eyes first. I found it helpful, therefore, to be able to toy around with the models myself. In the hope that it may be of similar help to others, I've bundled the examples together into this notebook.\n",
        "\n",
        "I have collected examples from throughout the book, though with emphasis on Sections 3--8, progressing linearly, so that you will find that the examples become more advanced as the notebook progresses. As the book is written for mathematicians and not computer scientists, I have always chosen simplicity over efficiency in my code.\n",
        "\n",
        "Progress: Sections 1--5 are mostly completed."
      ]
    },
    {
      "cell_type": "code",
      "metadata": {
        "id": "VqM-zYIVU2nc"
      },
      "source": [
        "import numpy as np\n",
        "import math\n",
        "import matplotlib.pyplot as plt\n",
        "import time"
      ],
      "execution_count": 2,
      "outputs": []
    },
    {
      "cell_type": "markdown",
      "metadata": {
        "id": "kRQ6aJXTb6OM"
      },
      "source": [
        "##Section 1"
      ]
    },
    {
      "cell_type": "markdown",
      "metadata": {
        "id": "Nj5MzrMuU474"
      },
      "source": [
        "**Example 1.14 (False positive paradox).** A laboratory blood test is $95$ percent effective in detecting a certain disease when it is, in fact, present. However, the test also yields a 'false positive' result for $1$ percent of the healthy persons tested.  If $0.5$ percent of the population actually has the disease, what is the probability a person has the disease given that his test result is positive?\n",
        "\n",
        "*Solution:* A straightforward application of Bayes' formula yields a probability of $95 / 294$, which is approximately $0.32$. Given the high accuracy of the blood test, this may feel like an unintuitively low number. Let's confirm our result numerically, by considering a population of $100\\,000$ people, of which $500$ have the disease."
      ]
    },
    {
      "cell_type": "code",
      "metadata": {
        "colab": {
          "base_uri": "https://localhost:8080/"
        },
        "id": "ORje5tnEHVfQ",
        "outputId": "c811d1c2-2956-48de-bfa7-f495cf300e8f"
      },
      "source": [
        "population = [\"Infected\"] * 500 + [\"Healthy\"] * 99500\n",
        "\n",
        "outcomes = {\"True positive\": 0,\n",
        "            \"False negative\": 0,\n",
        "            \"False positive\": 0,\n",
        "            \"True negative\": 0}\n",
        "\n",
        "for person in population:\n",
        "  if person == \"Infected\":\n",
        "    blood_test = np.random.choice([\"True positive\", \"False negative\"], p = [0.95, 0.05])\n",
        "    outcomes[blood_test] += 1\n",
        "  if person == \"Healthy\":\n",
        "    blood_test = np.random.choice([\"False positive\", \"True negative\"], p = [0.01, 0.99])\n",
        "    outcomes[blood_test] += 1\n",
        "\n",
        "print(\"A person with positive result has the disease with probability\", \n",
        "      outcomes[\"True positive\"] / (outcomes[\"True positive\"] + outcomes[\"False positive\"]))"
      ],
      "execution_count": null,
      "outputs": [
        {
          "output_type": "stream",
          "text": [
            "A person with positive result has the disease with probability 0.324585635359116\n"
          ],
          "name": "stdout"
        }
      ]
    },
    {
      "cell_type": "markdown",
      "metadata": {
        "id": "dYh31qxgb99Q"
      },
      "source": [
        "##Section 2"
      ]
    },
    {
      "cell_type": "markdown",
      "metadata": {
        "id": "_ktcGExVStMs"
      },
      "source": [
        "**Example 2.53.** Consider a particle moving along a set of $m + 1$ nodes, labelled $0,1,\\ldots,m$, that are arranged around a circle. Starting at position $i = 0$, at each step, the particle is equally likely to move one position in either the clockwise or the counterclockwise direction. What is the probability that node $i$ (for $i = 1,\\ldots,m$) is the last one to be visited?\n",
        "\n",
        "*Solution:* Perhaps it feels intuitive to you that the nodes around $m / 2$ will be more likely to be visited last. Numerical simulations suggest a different story, however:"
      ]
    },
    {
      "cell_type": "code",
      "metadata": {
        "colab": {
          "base_uri": "https://localhost:8080/",
          "height": 279
        },
        "id": "r5TNl_iTc91s",
        "outputId": "3cdd79b0-4e9f-4624-89f8-7868d9e9c1c8"
      },
      "source": [
        "m = 30\n",
        "iterations = 1000\n",
        "\n",
        "nodes = [i for i in range(m + 1)]\n",
        "\n",
        "final_nodes = {i : 0 for i in range(1, m + 1)}\n",
        "\n",
        "for _ in range(iterations):\n",
        "  unvisited_nodes = [i for i in range(1, m + 1)]\n",
        "\n",
        "  position = 0\n",
        "  while len(unvisited_nodes) > 1:\n",
        "    step = np.random.choice([-1, 1])\n",
        "    position += step\n",
        "    position = position % (m + 1)\n",
        "    if position in unvisited_nodes:\n",
        "      unvisited_nodes.remove(position)\n",
        "\n",
        "  final_nodes[unvisited_nodes[0]] += 1\n",
        "\n",
        "output = list(final_nodes.values())\n",
        "\n",
        "plt.bar(range(1, m + 1), output)\n",
        "plt.xlabel(\"Last visited node\")\n",
        "plt.show()"
      ],
      "execution_count": null,
      "outputs": [
        {
          "output_type": "display_data",
          "data": {
            "image/png": "[encoded data removed]",
            "text/plain": [
              "<Figure size 432x288 with 1 Axes>"
            ]
          },
          "metadata": {
            "tags": [],
            "needs_background": "light"
          }
        }
      ]
    },
    {
      "cell_type": "markdown",
      "metadata": {
        "id": "jhUi7Kf-fvD4"
      },
      "source": [
        "It appears that our data does not exhibit any nontrivial pattern. And indeed it turns out that every node is equally likely to be visited last. A standard recurrence relation argument should convince you of this."
      ]
    },
    {
      "cell_type": "markdown",
      "metadata": {
        "id": "jOi5cUS3b_qo"
      },
      "source": [
        "##Section 3"
      ]
    },
    {
      "cell_type": "markdown",
      "metadata": {
        "id": "_mtCixRxS_Hk"
      },
      "source": [
        "**Example 3.23 (Secretary problem).** We are to be presented with $n$ distinct prizes in sequence. After being presented with a prize, we must decide whether to accept it or reject it and consider the next prize. The only information we know about the prize is the relative rank of that prize compared to the ones already seen. Assuming that all $n!$ orderings of the prizes are equally likely, with what strategy can we maximise the probability of obtaining the best prize?\n",
        "\n",
        "*Solution:* We consider the following rudimentary strategy. Fix a factor $\\alpha$ between $0$ and $100$. We let the first $\\alpha \\%$ of the prizes go by, and then we select the first prize to appear that is better than all of those --- provided one appears. What $\\alpha$ would be the optimal choice?"
      ]
    },
    {
      "cell_type": "code",
      "metadata": {
        "colab": {
          "base_uri": "https://localhost:8080/",
          "height": 283
        },
        "id": "YiO_8bcn6djw",
        "outputId": "3f76af12-4393-4697-debc-f067aacf01e3"
      },
      "source": [
        "n = 100\n",
        "alpha_range = np.arange(0, 100, 2)\n",
        "iterations = 500 #Number of iterations for *every* alpha in the specified range.\n",
        "\n",
        "data = []\n",
        "\n",
        "for alpha in alpha_range:\n",
        "  alpha = alpha / 100\n",
        "  choices = [] #Outcomes of the strategy after each run\n",
        "  for _ in range(iterations):\n",
        "    prizes = np.random.permutation(range(1, n + 1))\n",
        "    for i in range(math.floor(alpha * n), n):\n",
        "      if all(prizes[i] < prizes[j] for j in range(math.floor(alpha * n))):\n",
        "        choices.append(prizes[i])\n",
        "        break\n",
        "      if i == n - 1: #If we're through the list and we found no desirable prize, we just go with the last one\n",
        "        choices.append(prizes[i])\n",
        "  first_prizes = choices.count(1) / iterations\n",
        "  data.append(100 * first_prizes)\n",
        "\n",
        "plt.bar(alpha_range, data)\n",
        "plt.xlabel(r'$\\alpha$')\n",
        "plt.ylabel('First prize occurrences (%)')\n",
        "plt.show()"
      ],
      "execution_count": null,
      "outputs": [
        {
          "output_type": "display_data",
          "data": {
            "image/png": "[encoded data removed]",
            "text/plain": [
              "<Figure size 432x288 with 1 Axes>"
            ]
          },
          "metadata": {
            "tags": [],
            "needs_background": "light"
          }
        }
      ]
    },
    {
      "cell_type": "markdown",
      "metadata": {
        "id": "jgy3u0eeAiD0"
      },
      "source": [
        "We observe a peak in our performance around $\\alpha = 34\\%$, with a corresponding success rate of around $38\\%$ --- a strikingly good result. What's more, although we have performed the experiment for $n = 100$, one finds similar results upon varying $n$. Why is this the case?\n",
        "\n",
        "Let's say that we reject the first $k$ prizes and then accept the best one we encounter. Then we're asking what the probability $P_{n,k}(B)$ is of getting the very best prize. To compute this, we condition on the position $X$ of the best prize.\n",
        "\n",
        "$$\\begin{split}\n",
        "P_{n,k}(B) &= \\sum_{i=1}^n P(X = i) \\cdot P_{n,k}(B \\mid X = i) \\\\ \n",
        "  &= \\frac{1}{n} \\sum_{i=1}^n P(X = i) \\cdot P_{n,k}(B \\mid X = i)\\text{.}\n",
        "  \\end{split}$$\n",
        "\n",
        "Clearly, $P_{n,k}(B \\mid X = i)$ will be $0$ if $i \\leq k$. In contrast, if $i > k$, then the prizes $k+1,\\ldots,i-1$ shouldn't be better than the first $k$ prizes; in other words, of the first $i - 1$ prizes, the best should be among the first $k$, and this happens with probability $k / (i-1)$. We thus find that\n",
        "\n",
        "$$\\begin{split}\n",
        "P_{n,k}(B) &= \\frac{k}{n} \\sum_{i = k + 1}^{n} \\frac{1}{i - 1} \\\\\n",
        "&\\approx \\frac{k}{n} \\log \\frac{n}{k} \\text{.}\\end{split}$$\n",
        "\n",
        "If we keep $n$ fixed, and we pretend $k$ as a real variable, then the approximation is observed to exhibit a maximum at $k = n / e$. As $1 / e \\approx 0.37$, this matches up with our observations."
      ]
    },
    {
      "cell_type": "markdown",
      "metadata": {
        "id": "UU7aZC8uTGUg"
      },
      "source": [
        "**Example 3.24 (Rencontre numbers).** At a party $n$ men take off their hats. The hats are then mixed up and each man randomly selects one. What is the probability that exactly $k$ men select their own hat?"
      ]
    },
    {
      "cell_type": "code",
      "metadata": {
        "colab": {
          "base_uri": "https://localhost:8080/",
          "height": 281
        },
        "id": "ti776FVRDJtg",
        "outputId": "1df0aef2-5495-494b-e5a9-d0d16f7319b5"
      },
      "source": [
        "n = 1000\n",
        "iterations = 1000\n",
        "\n",
        "data = []\n",
        "\n",
        "for _ in range(iterations):\n",
        "  #We can simulate the problem by considering a random permutation of range(n). A match occurs if the k-th element happens to be k.\n",
        "  matches = 0\n",
        "  random_hats = np.random.permutation(range(n))\n",
        "  for i in range(n):\n",
        "    if random_hats[i] == i:\n",
        "      matches += 1\n",
        "  data.append(matches)\n",
        "\n",
        "limit = math.floor(math.log(n)) #Heuristically determined reasonable upper bound for our graph.\n",
        "\n",
        "output = [data.count(i) for i in range(limit)]\n",
        "\n",
        "plt.bar(range(limit), output)\n",
        "plt.xlabel(r\"$k$\")\n",
        "plt.ylabel(\"Occurrences\")\n",
        "plt.xticks(range(limit))\n",
        "plt.show()"
      ],
      "execution_count": null,
      "outputs": [
        {
          "output_type": "display_data",
          "data": {
            "image/png": "[encoded data removed]",
            "text/plain": [
              "<Figure size 432x288 with 1 Axes>"
            ]
          },
          "metadata": {
            "tags": [],
            "needs_background": "light"
          }
        }
      ]
    },
    {
      "cell_type": "markdown",
      "metadata": {
        "id": "Y4ERUrg1Fgz0"
      },
      "source": [
        "Observe that we rarely see a large number of matches; in fact, this appears to remain the case if we significantly increase or decrease $n$. Let's consider the mathematics.\n",
        "\n",
        "Denote by $E_n$ the event that $k = 0$. Our first goal will be to determine $P(E_n)$. To do so, we condition on whether or not the first man selects his own hat --- call these events $M$ and $M^c$. Then\n",
        "\n",
        "$$P(E_n) = P(M) P(E_n \\mid M) + P(M^c) P(E_n \\mid M^c) \\text{.}$$\n",
        "\n",
        "Evidently, $P(E_n \\mid M) = 0$, and so\n",
        "\n",
        "$$P(E_n) = \\frac{n-1}{n} \\cdot P(E_n \\mid M^c)\\text{.}$$\n",
        "\n",
        "But what is $E_n \\mid M^c$? The situation is now as follows: We have $n - 1$ men and $n - 1$ hats, but now there is one man witout a matching hat, and one hat without a matching man. We now condition further on whether the unmatched man picks the unmatched hat to obtain\n",
        "\n",
        "$$P(E_n \\mid M^c) = \\frac{1}{n - 1} P(E_{n - 2}) + \\frac{n - 2}{n - 1}P(E_{n-1} \\mid M^c)$$\n",
        "\n",
        "Using this, we deduce the recurrence relation\n",
        "\n",
        "$$P(E_n) = \\frac{n-1}{n} P(E_{n-1}) + \\frac{1}{n} P(E_{n-2})\\text{.}$$\n",
        "\n",
        "Starting from $P(E_1) = 0$ and $P(E_2) = 1/2$, we easily find inductively that \n",
        "\n",
        "$$P(E_n) = \\sum_{i = 2}^{n} (-1)^i \\frac{1}{i!}\\text{.}$$\n",
        "\n",
        "Now, to obtain the probability of exactly $k$ matches, we may consider any fixed group of $k$ men, and ask for the probability that they, and only they, select their own hats. This probability is \n",
        "\n",
        "$$\\frac{1}{n} \\frac{1}{n-1} \\cdots \\frac{1}{n - (k - 1)} P(E_{n-k}) = \\frac{(n-k)!}{n!} P_{n-k}\\text{,}$$\n",
        "\n",
        "since $P(E_{n-k})$ represents the probability that the other $n - k$, selecting among their own hats, exhibit no matches. Since there are ${{n} \\choose {k}}$ choices of such a set of $k$ men, the probability of exactly $k$ matches must be \n",
        "\n",
        "$$ {{n} \\choose {k}} \\cdot \\frac{(n-k)!}{n!} P_{n-k} = \\frac{1}{k!} \\sum_{i = 2}^{n - k} (-1)^i \\frac{1}{i!}\\text{,}$$\n",
        "\n",
        "which, for large $n$, is approximately $e^{-1} / k!$. This is consistent with our numerical results.\n",
        "\n",
        "The number of permutations of a size-$n$ set with exactly $k$ fixed points is sometimes known as the $(n,k)$-th rencontre numbers, denoted $D_{n,k}$. Using the analysis outlined above, one can give a recursive formula for the $D_{n,k}$."
      ]
    },
    {
      "cell_type": "markdown",
      "metadata": {
        "id": "jeBc5LErTdUY"
      },
      "source": [
        "**Section 3.6.3 (Bose--Einstein statistics).** If $n$ independent trials are performed, each of which is a success with probability $p$, then the total number $X$ of successes is a random variable afforded by a binomial distribution. But what if the value of $p$ is not predetermined but is chosen according to a distribution $f$ on $[0,1]$? Then\n",
        "\n",
        "$$P(X = k) = \\int_0^1 P(X = k \\mid p = t) f(t) \\,dt\\text{.}$$\n",
        "\n",
        "If we take $f$ to be a uniform distribution, then\n",
        "\n",
        "$$P(X = k) = \\int_0^1 {{n}\\choose{k}} p^k(1-p)^{n-k}\\,dp = \\frac{1}{n+1}\\text{,}$$\n",
        "\n",
        "so that each of the $n + 1$ values of $X$ are equally likely."
      ]
    },
    {
      "cell_type": "code",
      "metadata": {
        "colab": {
          "base_uri": "https://localhost:8080/",
          "height": 279
        },
        "id": "062bIUeiIRuA",
        "outputId": "d83e12f9-6fa7-412d-9e37-9d11b47fd423"
      },
      "source": [
        "#Editable parameters\n",
        "iterations = 10000\n",
        "n = 100\n",
        "\n",
        "data = []\n",
        "\n",
        "for _ in range(iterations):\n",
        "  p = np.random.rand()\n",
        "  successes = 0\n",
        "  for i in range(n):\n",
        "    c = np.random.rand()\n",
        "    if c < p:\n",
        "      successes += 1\n",
        "  data.append(successes)\n",
        "\n",
        "plt.hist(data, bins = range(n + 2))\n",
        "plt.xlabel(\"Number of successes\")\n",
        "plt.show()"
      ],
      "execution_count": null,
      "outputs": [
        {
          "output_type": "display_data",
          "data": {
            "image/png": "[encoded data removed]",
            "text/plain": [
              "<Figure size 432x288 with 1 Axes>"
            ]
          },
          "metadata": {
            "tags": [],
            "needs_background": "light"
          }
        }
      ]
    },
    {
      "cell_type": "markdown",
      "metadata": {
        "id": "K4FGJn8MJkdU"
      },
      "source": [
        "Now let's consider the case where each trial has more than two possible outcomes. Every trial has one of $m$ possible outcomes, occurring with probabilities $p_1,\\ldots,p_m$. If we know the $p_i$, then the vector $(X_1,\\ldots,X_m)$ follows a multinomial distribution. But now suppose that the probability vector $(p_1,\\ldots,p_m)$ is not specified but is chosen from a uniform distribution on the $(m-1)$-sphere. Then one can show that\n",
        "\n",
        "$$ P(X_1 = x_1,\\ldots,X_m = x_m) = {{n + m - 1}\\choose{m-1}}^{-1}\\text{,} $$\n",
        "\n",
        "meaning that every possible outcome is equally likely. This probability distribution is sometimes called the Bose--Einstein distribution. In physics, it describes how noninteracting particles may occupy a set of available discrete energy states. That these adhere to such a uniform distribution rather than a multinomial one is a reflection of the quantum-mechanical fact that particles can be indistinguishable, even in principle."
      ]
    },
    {
      "cell_type": "markdown",
      "metadata": {
        "id": "sfn3Wut5cCNI"
      },
      "source": [
        "##Section 4"
      ]
    },
    {
      "cell_type": "markdown",
      "metadata": {
        "id": "j7yHOJBzVAPE"
      },
      "source": [
        "**Example 4.8 (Chapman--Kolmogorov equations).** Suppose that the chance of rain tomorrow only depends on whether or not it's raining today. If it rains today, then it will rain tomorrow with probability $0.7$, and if it does not rain today, then it will rain tomorrow with probability $0.4$. Then the weather may be seen as a two-state Markov chain with transition probability matrix\n",
        "\n",
        "$$P = \\begin{pmatrix} 0.7 & 0.3 \\\\ 0.4 & 0.6 \\end{pmatrix}$$\n",
        "\n",
        "Suppose that it's raining today. What is the probability that it will be raining four days from now?"
      ]
    },
    {
      "cell_type": "code",
      "metadata": {
        "colab": {
          "base_uri": "https://localhost:8080/"
        },
        "id": "rDvMvAd7aDok",
        "outputId": "3e1bc4b8-69b1-4133-b817-b1d3b3b82ff0"
      },
      "source": [
        "iterations = 10000\n",
        "\n",
        "rain_count = 0\n",
        "for _ in range(iterations):\n",
        "  rain_today = True\n",
        "  for days in range(1, 4):\n",
        "    p = np.random.rand()\n",
        "    if rain_today and p <= 0.7:\n",
        "      rain_tomorrow = True\n",
        "    elif rain_today and p > 0.7:\n",
        "      rain_tomorrow = False\n",
        "    elif not rain_today and p <= 0.4:\n",
        "      rain_tomorrow = True\n",
        "    else:\n",
        "      rain_tomorrow = False\n",
        "    \n",
        "    rain_today = rain_tomorrow\n",
        "  \n",
        "  if rain_today:\n",
        "    rain_count += 1\n",
        "  \n",
        "print(\"It will rain with probability\", rain_count / iterations)\n"
      ],
      "execution_count": null,
      "outputs": [
        {
          "output_type": "stream",
          "text": [
            "It will rain with probability 0.5768\n"
          ],
          "name": "stdout"
        }
      ]
    },
    {
      "cell_type": "markdown",
      "metadata": {
        "id": "rZq35s_XbfSM"
      },
      "source": [
        "Mathematically, we can confirm this using the Chapman--Kolmogorov equations, which we can view as an instance of matrix multiplication."
      ]
    },
    {
      "cell_type": "code",
      "metadata": {
        "colab": {
          "base_uri": "https://localhost:8080/"
        },
        "id": "mPcRv2PrbmBc",
        "outputId": "342395f8-aec0-422d-81f1-16b7730433c5"
      },
      "source": [
        "P = np.array([[0.7, 0.3], [0.4, 0.6]])\n",
        "print(P @ P @ P @ P)"
      ],
      "execution_count": null,
      "outputs": [
        {
          "output_type": "stream",
          "text": [
            "[[0.5749 0.4251]\n",
            " [0.5668 0.4332]]\n"
          ],
          "name": "stdout"
        }
      ]
    },
    {
      "cell_type": "markdown",
      "metadata": {
        "id": "CdMwFwo8bx0I"
      },
      "source": [
        "The desired probability may be read off from the top left input of $P^4$. The value is $0.5749$, which is close to the numerical outcome."
      ]
    },
    {
      "cell_type": "markdown",
      "metadata": {
        "id": "Ng4XmRYdhPO0"
      },
      "source": [
        "**Example 4.22 (Patterns).** Consider an irreducible Markov chain $(X_n)$ with transition probabilities $P_{ij}$ and stationary probabilities $\\pi_j$. Starting in state $r$, we are interested in determining the expected number of transitions until the pattern $i_1,i_2,\\ldots,i_k$ appears. That is, if we write\n",
        "\n",
        "$$N(i_1,\\ldots,i_k) = \\min\\big\\{n \\mid X_{n-k+1} = i_1,\\ldots,X_n = i_k\\big\\}\\text{,}$$\n",
        "\n",
        "then we are interested in the expected value of $N(i_1,\\ldots,i_k)$. We assume that, even if $i_1 = r$, the initial statte $X_0$ is not considered part of the pattern sequence.\n",
        "\n",
        "Let's first consider the case $k = 1$. What is the expected amount of time $\\mu(r;i)$ needed to pass from state $r$ to state $i$? This can be answered by observing the recurrence relation\n",
        "\n",
        "$$\\mu(r;i) = 1 + \\sum_{j \\neq i} P_{rj} \\mu(j;i)\\text{,}$$\n",
        "\n",
        "which is always enough to find $\\mu(r;i)$ numerically. Let's see this in action. Consider a Markov chain with four states, and with transition matrix\n",
        "\n",
        "$$P = \\begin{pmatrix}\n",
        "  0.3 & 0.1 & 0 & 0.6 \\\\\n",
        "  0.2 & 0.2 & 0.3 & 0.3 \\\\\n",
        "  0.1 & 0.3 & 0.6 & 0 \\\\\n",
        "  0.2 & 0.3 & 0.2 & 0.3 \\end{pmatrix} $$"
      ]
    },
    {
      "cell_type": "code",
      "metadata": {
        "colab": {
          "base_uri": "https://localhost:8080/"
        },
        "id": "6PP1OqX58fh0",
        "outputId": "b348dd2f-785d-49c1-b428-84cf1aaaa5e6"
      },
      "source": [
        "#Editable parameters\n",
        "P = np.array([[0.3, 0.1, 0, 0.6], \n",
        "              [0.2, 0.2, 0.3, 0.3], \n",
        "              [0.1, 0.3, 0.6, 0],\n",
        "              [0.2, 0.3, 0.2, 0.3]])\n",
        "iterations = 5000\n",
        "starting_state = 0\n",
        "\n",
        "number_of_states = P.shape[0]\n",
        "cumulatives = np.array([np.cumsum(P[i]) for i in range(number_of_states)])\n",
        "averages = []\n",
        "\n",
        "def step(cumulative):\n",
        "  \"\"\"Make a random choice according to a cumulative list of probabilities.\"\"\"\n",
        "  p = np.random.rand()\n",
        "  i = 0\n",
        "  while cumulative[i] <= p:\n",
        "    i += 1\n",
        "  return i\n",
        "\n",
        "start_time = time.time()\n",
        "print(\"Let's first simulate the Markov chain and see what we get.\")\n",
        "M = np.zeros((number_of_states, number_of_states))\n",
        "for starting_state in range(number_of_states):\n",
        "  for end_state in range(number_of_states):\n",
        "    #For every choice of end state, we will simulate walking around the Markov chian until the specified end state is reached. We keep track of how long it took us to do so.\n",
        "    sum_arrival_time = 0\n",
        "    for _ in range(iterations):\n",
        "      #The first step is performed manually. We do this to deal with the case that i = r, as otherwise the while loop would halt immediately.\n",
        "      current_state = step(cumulatives[starting_state])\n",
        "      count = 1\n",
        "      while current_state != end_state:\n",
        "        current_state = step(cumulatives[current_state])\n",
        "        count += 1\n",
        "      sum_arrival_time += count\n",
        "    M[starting_state][end_state] += sum_arrival_time / iterations\n",
        "\n",
        "print(\"The average arrival times, captured by the matrix mu, is:\")\n",
        "print(M)\n",
        "\n",
        "middle_time = time.time()\n",
        "print(\"It took me\", middle_time - start_time, \"seconds to simulate this!\")\n",
        "\n",
        "print(\"\\nNext, we use the recursion relation to numerically compute the expected times.\")\n",
        "averages = np.ones((number_of_states, number_of_states)) #Initiate the matrix at some arbitrarily chosen values.\n",
        "for _ in range(100):\n",
        "  #We iteratively apply the recursion relation to the matrix of averages until it converges to stable values.\n",
        "  new_averages = np.ones((number_of_states, number_of_states))\n",
        "  for r in range(number_of_states):\n",
        "    for i in range(number_of_states):\n",
        "      for j in range(number_of_states):\n",
        "        if j != i:\n",
        "          new_averages[r][i] += P[r][j] * averages[j][i]\n",
        "  for i in range(number_of_states):\n",
        "    for j in range(number_of_states):\n",
        "      averages[i][j] = new_averages[i][j]\n",
        "\n",
        "print(\"The numerically computed times are:\")\n",
        "print(averages)\n",
        "\n",
        "end_time = time.time()\n",
        "print(\"It took me\", end_time - middle_time, \"seconds to compute this!\")"
      ],
      "execution_count": null,
      "outputs": [
        {
          "output_type": "stream",
          "text": [
            "Let's first simulate the Markov chain and see what we get.\n",
            "The average arrival times, captured by the matrix mu, is:\n",
            "[[5.3772 4.7118 7.0296 1.9974]\n",
            " [6.33   4.1776 5.1874 3.988 ]\n",
            " [7.2754 3.6602 3.2888 5.9214]\n",
            " [6.1906 3.8282 5.5308 3.7392]]\n",
            "It took me 0.7041585445404053 seconds to simulate this!\n",
            "\n",
            "Next, we use the recursion relation to numerically compute the expected times.\n",
            "The numerically computed times are:\n",
            "[[5.32710237 4.70588235 6.9491525  2.        ]\n",
            " [6.26168171 4.19117647 5.08474574 4.        ]\n",
            " [7.19626105 3.67647059 3.22033897 6.        ]\n",
            " [6.16822378 3.82352941 5.59322031 3.8       ]]\n",
            "It took me 0.01650071144104004 seconds to compute this!\n"
          ],
          "name": "stdout"
        }
      ]
    },
    {
      "cell_type": "markdown",
      "metadata": {
        "id": "-llzOCodBw7k"
      },
      "source": [
        "To tackle the general case $k \\geq 1$, the idea is to reduce it to the situation above by considering a Markov chain whose state at any time is the sequence of the most recent $k$ states. I refer you to the book for more details."
      ]
    },
    {
      "cell_type": "markdown",
      "metadata": {
        "id": "FNVEHDDqBxEU"
      },
      "source": [
        "**Section 4.7 (Branching processes).** Consider a population consisting of individuals able to produce offspring of the same kind. Suppose that each individual will, by the end of its lifetime, have produced $j$ new offspring with probability $P_j$, independently of the numbers produced by other individuals. This defines a Markov chain $(X_n)$, the state space being the number of individuals in a given generation.\n",
        "\n",
        "Denote by $\\mu$ the expected number of offspring per individual, and by $\\sigma$ the standard deviation, and suppose that $X_0 = 1$. By conditioning on $X_{n-1}$, we can prove that $E(X_n) = \\mu^n$. Similarly, the variance of $X_n$ can be obtained by using the conditional variance for\n",
        "mula, yielding\n",
        "\n",
        "$$\\operatorname{Var}(X_n) = \\begin{cases}\n",
        "  \\sigma^2 \\mu^{n-1} \\frac{1-\\mu^n}{1 - \\mu} \\qquad &\\text{if $\\mu \\neq 1$;} \\\\\n",
        "  n \\sigma^2 \\qquad &\\text{if $\\mu = 1$.}\\end{cases}$$\n",
        "\n",
        "Let $\\pi_0$ denote the limiting probability that the population will eventually die out. It is perhaps not so surprising that $\\pi_0 = 1$ if $\\mu < 1$; in contrast, if $\\mu > 1$ then $\\pi_0$ is the smallest positive number satisfying the equation\n",
        "\n",
        "$$ \\pi_0 = \\sum_{j=0}^{\\infty} \\pi_0^j P_j \\text{.}$$\n",
        "\n",
        "What about the edge case $\\mu = 1$. Although perhaps less intuitive, in that case, we always have $\\pi_0 = 1$, with the exception of the trivial scenario that $P_1 = 1$.\n",
        "\n",
        "Let's consider a population where $P_0 = P_1 = P_2 = P_3 = 1/4$. Then we expect $\\pi_0$ to be the smallest positive number satisfing the equation\n",
        "\n",
        "$$ \\pi_0 = \\frac{1}{4} + \\frac{1}{4} \\pi_0 + \\frac{1}{4} \\pi_0^2 + \\frac{1}{4} \\pi_0^3 \\text{.} $$\n",
        "\n",
        "This equation is easily solved by noting that\n",
        "\n",
        "$$\\frac{1}{4}x^3 + \\frac{1}{4} x^2 - \\frac{3}{4} x + \\frac{1}{4} = \\frac{1}{4}(x-1)(x^2 + 2x - 1) \\text{,}$$\n",
        "\n",
        "which has roots $1$ and $-1 \\pm \\sqrt{2}$. The smallest positive root is thus $-1 + \\sqrt{2} \\approx 0.41$.\n"
      ]
    },
    {
      "cell_type": "code",
      "metadata": {
        "colab": {
          "base_uri": "https://localhost:8080/"
        },
        "id": "ZGzj8gRnVS5s",
        "outputId": "780307b5-9d7c-452f-9f59-51b13b403030"
      },
      "source": [
        "iterations = 500\n",
        "max_population = 2000 #If the population size exceeds this number, we make the educated guess that it will survive indefinitely.\n",
        "\n",
        "extinctions = 0\n",
        "\n",
        "for _ in range(iterations):\n",
        "  population = 1\n",
        "  while 0 < population < max_population: #Stop the simulation either if the population dies or if it exceeds the treshold.\n",
        "    new_population = 0 #Population count of the new generation.\n",
        "    for i in range(population):\n",
        "      p = np.random.randint(0, 4) #Every individual will produce 0, 1, 2 or 3 offspring with equal likelihood.\n",
        "      new_population += p\n",
        "    population = new_population\n",
        "  if population == 0:\n",
        "    extinctions += 1\n",
        "\n",
        "print(\"The population goes extinct\", 100 * extinctions / iterations, \"% of the time.\")"
      ],
      "execution_count": null,
      "outputs": [
        {
          "output_type": "stream",
          "text": [
            "The population goes extinct 40.6 % of the time.\n"
          ],
          "name": "stdout"
        }
      ]
    },
    {
      "cell_type": "markdown",
      "metadata": {
        "id": "9EL8a82kVXkI"
      },
      "source": [
        "Now let's consider the example where $P_0 = P_2 = 1/2$. This belongs to the edge case $\\mu = 1$, and it's a nontrivial fact that $\\pi_0 = 1$ in that case. Let's try and simulate a number of such runs, and consider instead the question *how long* it takes for the population to reach $0$. The following simulation can take anywhere from a second to several minutes."
      ]
    },
    {
      "cell_type": "code",
      "metadata": {
        "colab": {
          "base_uri": "https://localhost:8080/",
          "height": 573
        },
        "id": "clzMxgtlh_c0",
        "outputId": "9e61f49e-c035-47d0-cbce-300577d40d66"
      },
      "source": [
        "#Editable parameter\n",
        "iterations = 200\n",
        "max_length = 10000 #Give up on the simulation if it takes too long\n",
        "\n",
        "lengths = []\n",
        "\n",
        "for _ in range(iterations):\n",
        "  current_population = 1\n",
        "  population = [current_population] #To graph the development, we'll keep track of the development of the population size\n",
        "\n",
        "  while current_population > 0 and generation < max_length: #We simulate the population until it dies out, but we give up if it takes too long\n",
        "    new_population = 0\n",
        "    for i in range(current_population):\n",
        "      p = np.random.choice([0, 2])\n",
        "      new_population += p\n",
        "    population.append(new_population)\n",
        "    current_population = new_population\n",
        "  lengths.append(len(population)) #We keep track of how long the population lasted\n",
        "  plt.plot(population)\n",
        "plt.title(\"Population growth over time\")\n",
        "plt.xlabel(\"Generation\")\n",
        "plt.ylabel(\"Population size\")\n",
        "plt.show()\n",
        "\n",
        "plt.hist(lengths, bins = np.linspace(0, max(lengths) + 1, 20), rwidth = 0.8)\n",
        "plt.title(\"How long did each population last?\")\n",
        "plt.xlabel(\"Generations\")\n",
        "plt.ylabel(\"Occurences\")\n",
        "plt.show()"
      ],
      "execution_count": null,
      "outputs": [
        {
          "output_type": "display_data",
          "data": {
            "image/png": "[encoded data removed]",
            "text/plain": [
              "<Figure size 432x288 with 1 Axes>"
            ]
          },
          "metadata": {
            "tags": [],
            "needs_background": "light"
          }
        },
        {
          "output_type": "display_data",
          "data": {
            "image/png": "[encoded data removed]",
            "text/plain": [
              "<Figure size 432x288 with 1 Axes>"
            ]
          },
          "metadata": {
            "tags": [],
            "needs_background": "light"
          }
        }
      ]
    },
    {
      "cell_type": "markdown",
      "metadata": {
        "id": "8n9orqyelh6k"
      },
      "source": [
        "If you toy around a bit with this program, you'll find that the amount of time that it takes for a population to die out is rather unpredictable. The reason for this is that we are effectively simulating a random walk, and while every random walk returns to its starting point with probability $1$, the expected amount of time for this to happen is $\\infty$. That this is the case follows from a simple recursion argument: Let $E_n$ be the expected amount of time it takes for a standard random walk starting at $0$ to reach position $n$ for the first time. Then by conditioning on the first step, clearly $E_n = E_{n-1} / 2 + E_{n+1} / 2$. The only solutions to this equation are linear ones, but as $E_n \\to \\infty$ both as $n \\to \\infty$ and as $n \\to -\\infty$, the only solution is that $E_n = \\infty$ for all $n$, including $n = 0$."
      ]
    },
    {
      "cell_type": "markdown",
      "metadata": {
        "id": "hojUmzdWhbXY"
      },
      "source": [
        "**Example 4.33.** Suppose that we're given a set of $n$ elements, which are to be arranged in some ordered list. At each unit of time, we select one of the elements from the list, say element $i$ with probability $p_i$, we record its current position in the list, and we then perform either of the following two actions:\n",
        "\n",
        "*   The selected element is moved all the way to the front of the list (model A).\n",
        "*   The selected element is moved one closer to the front of the list (model B).\n",
        "\n",
        "With respect to either of these models, what is the long-run average position of the selected elements? Intuitively, it sounds reasonable that the average position will be closer to the front if we're following model A, but in fact the opposite will turn out to be true.\n",
        "\n",
        "For now, everything that follows holds for either model. We start by noting that\n",
        "\n",
        "$$\\begin{split}\n",
        "E(\\text{position of requested element}) &= \\sum_{i=1}^n p_i \\cdot E(\\text{position of $i$} \\mid \\text{$i$ is selected}) \\\\\n",
        "&= \\sum_{i=1}^n p_i \\cdot E(\\text{position of $i$}) \\text{,}\\end{split}$$\n",
        "\n",
        "where the last step uses that the position of $i$ and the event of selecting $i$ are independent. Next, we note that\n",
        "\n",
        "$$ \\text{position of $i$} = 1 + \\sum_{j \\neq i} I_j \\qquad \\text{where} \\qquad I_j = \\begin{cases} 1 \\qquad &\\text{if $j$ precedes $i$,} \\\\ 0 \\qquad &\\text{otherwise.}\\end{cases} $$\n",
        "\n",
        "So we can infer that\n",
        "\n",
        "$$E(\\text{position of requested element}) = 1 + \\sum_{i=1}^n p_i \\cdot \\sum_{j \\neq i} P(\\text{$j$ precedes $i$})\\text{.}\\tag{$*$}$$\n",
        "\n",
        "In model A, the long-term probability that $j$ precedes $i$ is easy to find, as it can be rephrased as the probability that the last request for $j$ was more recent than the last request for $i$, which is $p_j / (p_i + p_j)$. We thus find that, in model A,\n",
        "\n",
        "$$E(\\text{position of requested element}) = 1 + \\sum_{i=1}^n p_i \\cdot \\sum_{j \\neq i} \\frac{p_j}{p_i + p_j} \\text{.}$$\n",
        "\n",
        "Now let's turn to model $B$. We still have $(*)$, but it's not obvious anymore how these long-run probabilities are to be computed. Nonetheless there's still something we can say. Model B defines a time-reversible Markov chain whose limiting probabilities are related by \n",
        "\n",
        "$$p_{i_{j+1}} \\pi(i_1,\\ldots,i_j,i_{j+1},\\ldots,i_n) = p_{i_j} \\pi(i_1,\\ldots,i_{j+1},i_j,\\ldots,i_n)\\text{.}$$\n",
        "\n",
        "Using this rule inductively, we may deduce that\n",
        "\n",
        "$$\\pi(\\ldots,i,k_1,\\ldots,k_n,j,\\ldots) = \\bigg(\\frac{p_i}{p_j}\\bigg)^{n+1} \\pi(\\ldots,j,k_1,\\ldots,k_n,i,\\ldots)\\text{.}$$\n",
        "\n",
        "Now, when $p_j > p_i$, by summing over all states for which $i$ precedes $j$, we easily see that\n",
        "\n",
        "$$P(\\text{$i$ precedes $j$}) < \\frac{p_i}{p_j} \\,P(\\text{$j$ precedes $i$})\\text{.}$$\n",
        "\n",
        "Since $P(\\text{$i$ precedes $j$}) = 1 - P(\\text{$j$ precedes $i$})$, this yields the inequality\n",
        "\n",
        "$$P(\\text{$j$ precedes $i$}) > \\frac{p_j}{p_i + p_j}$$\n",
        "\n",
        "whenever $p_j > p_i$, and so conversely, \n",
        "\n",
        "$$P(\\text{$i$ precedes $j$}) < \\frac{p_i}{p_i + p_j}$$\n",
        "\n",
        "if $p_i > p_j$. This proves that the long-run average position of the selected elements is strictly smaller under model B.\n",
        "\n",
        "Let's confirm this in a small example, consisting of four elements, with $p = (0.1, 0.2, 0.3, 0.4)$."
      ]
    },
    {
      "cell_type": "code",
      "metadata": {
        "colab": {
          "base_uri": "https://localhost:8080/"
        },
        "id": "QI0pRNDI7l18",
        "outputId": "e796fd84-d0b6-4c20-99b4-06f148aa7fd2"
      },
      "source": [
        "#Editable parameters\n",
        "probabilities = [0.1, 0.2, 0.3, 0.4]\n",
        "iterations = 10000\n",
        "\n",
        "probabilities = [x / sum(probabilities) for x in probabilities] #Normalise probabilities if needed\n",
        "cumulative = np.cumsum(probabilities)\n",
        "elements = [i for i in range(len(probabilities))]\n",
        "\n",
        "def choice(cumulative):\n",
        "  \"\"\"Make a random choice according to a cumulative list of probabilities.\"\"\"\n",
        "  p = np.random.rand()\n",
        "  i = 0\n",
        "  while cumulative[i] <= p:\n",
        "    i += 1\n",
        "  return i\n",
        "\n",
        "#We begin with model A. We keep track of the position of the selected element as we go along.\n",
        "selections = []\n",
        "for _ in range(iterations):\n",
        "  selected_index = elements.index(choice(cumulative)) #The randomness occurs within the choice() function.\n",
        "  selections.append(selected_index + 1) #+1 because we don't want to count from 0\n",
        "  elements.insert(0, elements.pop(selected_index))\n",
        "print(\"Under model A, the average position of the selected element is\", sum(selections) / iterations)\n",
        "\n",
        "#Now we consider model B.\n",
        "selections = []\n",
        "for _ in range(iterations):\n",
        "  selected_index = elements.index(choice(cumulative))\n",
        "  selections.append(selected_index + 1)\n",
        "  if selected_index == 0:\n",
        "    pass\n",
        "  else:\n",
        "    elements.insert(selected_index - 1, elements.pop(selected_index))\n",
        "print(\"Under model B, the average position of the selected element is\", sum(selections) / iterations)"
      ],
      "execution_count": 34,
      "outputs": [
        {
          "output_type": "stream",
          "text": [
            "Under model A, the average position of the selected element is 2.3081\n",
            "Under model B, the average position of the selected element is 2.2113\n"
          ],
          "name": "stdout"
        }
      ]
    },
    {
      "cell_type": "markdown",
      "metadata": {
        "id": "-RwRA3f0cH3o"
      },
      "source": [
        "##Section 5"
      ]
    },
    {
      "cell_type": "markdown",
      "metadata": {
        "id": "yfMncjR-hnnw"
      },
      "source": [
        "**Example 5.7 (Assignment problem).** A group of $n$ people is to be assigned to a set of $n$ jobs, with one person assigned to each job. For a given set of $n^2$ values $C_{ij}$, a cost $C_{ij}$ is incurred when person $i$ is assigned to job $j$. How do we determine the set of assignments that minimises the sum of the $n$ costs incurred? In this example we consider two heuristic algorithms for solving this problem. \n",
        "\n",
        "The first algorithm, which we call algorithm A, proceeds as follows. First assign person $1$ to the job resulting in the least cost. Then eliminate that job from consideration, and assign person $2$ to the job resulting in the least cost. Proceed inductively.\n",
        "\n",
        "In contrast, algorithm B takes a more 'global' approach. It considers all $n^2$ cost values, and chooses the pair $(i_1,j_1)$ for which $C_{i,j}$ is minimal. It then assigns person $i_1$ to job $j_1$, eliminates all cost values involving either person $i_1$ or job $j_1$, and repeats the process.\n",
        "\n",
        "Under the assumption that the $C_{ij}$ constitute a set of $n^2$ independent exponential random variables, each having mean $1$, which of the two algorithms results in a smaller expected cost?\n",
        "\n",
        "*Solution:* Using the fact that the minimum of $k$ exponentially distributed variables of rate $\\mu$ is itself exponentially distributed with rate $k\\mu$, it's not hard to show that algorithm A has expected cost\n",
        "\n",
        "$$E(A) = 1 + \\frac{1}{2} + \\cdots + \\frac{1}{n}\\text{.}$$\n",
        "\n",
        "Now for algorithm B. The minimal cost $C_{(i_1,j_1)}$ is exponentially distributed of rate $n^2$. By memorylessness (!), $C_{(i_2,j_2)}$ is equal to $C_{(i_1,j_1)}$ plus an exponential of rate $(n - 1)^2$, and so on, so that \n",
        "\n",
        "$$\\begin{split} \n",
        "E(B) &= E(C_{(i_1,j_1)} + E(C_{(i_2,j_2)}) + \\cdots + E(C_{i_n,j_n}) \\\\\n",
        "&= n \\cdot \\frac{1}{n^2} + (n-1) \\cdot \\frac{1}{(n-1)^2} + \\cdots + 1 \\cdot \\frac{1}{1^2} \\\\\n",
        "&= \\frac{1}{n} + \\frac{1}{n-1} + \\cdots + 1\\text{.}\\end{split}$$\n",
        "\n",
        "In other words, the outcomes of the two algorithms are the same! Let's confirm this by simulating the algorithm, arbitrarily picking $n$ to be $10$, making the math predict both algorithms to return an average cost of around $2.9$."
      ]
    },
    {
      "cell_type": "code",
      "metadata": {
        "colab": {
          "base_uri": "https://localhost:8080/",
          "height": 583
        },
        "id": "G-qvTajlDobY",
        "outputId": "2966fd4f-73ee-452f-b361-86321d0a8de8"
      },
      "source": [
        "#Editable parameters\n",
        "n = 10\n",
        "iterations = 10000\n",
        "\n",
        "def GreedyA(arr):\n",
        "    total_cost = 0\n",
        "    for _ in range(n ):\n",
        "        job_choices = arr[0]\n",
        "        cheapest = job_choices.argmin()\n",
        "        total_cost += job_choices[cheapest]\n",
        "        arr = np.delete(arr, 0, axis = 0)\n",
        "        arr = np.delete(arr, cheapest, axis = 1)\n",
        "    return total_cost\n",
        "\n",
        "def GreedyB(arr):\n",
        "    total_cost = 0\n",
        "    for _ in range(n):\n",
        "        x, y = np.unravel_index(arr.argmin(), arr.shape)\n",
        "        total_cost += arr[x][y]\n",
        "        arr = np.delete(arr, x, axis = 0)\n",
        "        arr = np.delete(arr, y, axis = 1)\n",
        "    return total_cost\n",
        "\n",
        "values_A = []\n",
        "values_B = []\n",
        "\n",
        "for _ in range(iterations):\n",
        "  costs = np.random.exponential(size = (n, n), scale = 1)\n",
        "  outcomeA = GreedyA(costs)\n",
        "  outcomeB = GreedyB(costs)\n",
        "  values_A.append(outcomeA)\n",
        "  values_B.append(outcomeB)\n",
        "\n",
        "plt.hist(values_A, bins = np.arange(0, 10, 0.2), rwidth = 0.8)\n",
        "plt.title(\"Outcome of algorithm A\")\n",
        "plt.show()\n",
        "\n",
        "print(\"The average total cost from algorithm A is\", sum(values_A) / iterations)\n",
        "\n",
        "plt.hist(values_B, bins = np.arange(0, 10, 0.2), rwidth = 0.8)\n",
        "plt.title(\"Outcome of algorithm B\")\n",
        "plt.show()\n",
        "\n",
        "print(\"The average total cost from algorithm B is\", sum(values_B) / iterations)"
      ],
      "execution_count": null,
      "outputs": [
        {
          "output_type": "display_data",
          "data": {
            "image/png": "[encoded data removed]",
            "text/plain": [
              "<Figure size 432x288 with 1 Axes>"
            ]
          },
          "metadata": {
            "tags": [],
            "needs_background": "light"
          }
        },
        {
          "output_type": "stream",
          "text": [
            "The average total cost from algorithm A is 2.9511260280599885\n"
          ],
          "name": "stdout"
        },
        {
          "output_type": "display_data",
          "data": {
            "image/png": "[encoded data removed]",
            "text/plain": [
              "<Figure size 432x288 with 1 Axes>"
            ]
          },
          "metadata": {
            "tags": [],
            "needs_background": "light"
          }
        },
        {
          "output_type": "stream",
          "text": [
            "The average total cost from algorithm B is 2.918922558348867\n"
          ],
          "name": "stdout"
        }
      ]
    },
    {
      "cell_type": "markdown",
      "metadata": {
        "id": "tjDU1Qw4K4cQ"
      },
      "source": [
        "We remark that this problem is a classical combinatorial optimisation problem called the assignment problem, for which $O(n^3)$ running time algorithms are known to exist."
      ]
    },
    {
      "cell_type": "markdown",
      "metadata": {
        "id": "UCb--DeqW3Os"
      },
      "source": [
        "**Example 5.9.** There are $n$ cells in the human body, of which cells $1$ through $k$ are target cells. Associated with each cell is a weight $w_i$. The cells are destroyed one at a time in random order, the order being such that, if $S$ is the current set of surviving cells, then the next cell to be killed is to be cell $i$ with probability $w_i / \\sum_{j \\in S} w_j$. Let $A$ be the number of cells alive after cells $1,\\ldots,k$ have been killed. What is $E(A)$?\n",
        "\n",
        "*Solution:* Let $X_1,\\ldots,X_n$ be auxiliary exponential variables with rates $w_1,\\ldots,w_n$. Notice that $X_i < X_j$ with probability $w_i / (w_i + w_j)$; this makes the order of the $X_i$ a model for the order in which the cells are killed. If we now set the variable $A_j$ to be $1$ when $j$ is alive when cells $1,\\ldots,k$ are killed, then \n",
        "\n",
        "$$A = \\sum_{j = k+1}^n A_j\\text{,}$$\n",
        "\n",
        "and\n",
        "\n",
        "$$\\begin{split}\n",
        "E(A_j) &= P\\big(X_j > \\max\\{X_1,\\ldots,X_k\\}\\big) \\\\\n",
        "&= \\int_0^\\infty P\\big(X_j > \\max\\{X_1,\\ldots,X_k\\} \\mid X_j = x\\big) w_j e^{-w_j x}\\,dx \\\\\n",
        "&= \\int_0^\\infty P\\big(X_i < x \\text{ for all }i = 1,\\ldots,k\\big) w_j e^{-w_j x}\\,dx \\\\\n",
        "&= \\int_0^\\infty \\prod_{i=1}^k (1 - e^{-w_i x}) w_j e^{-w_j x}\\,dx \\\\\n",
        "&= \\int_0^1 \\prod_{i = 1}^k (1 - y^{w_i / w_j}) \\,dy\\text{.}\n",
        "\\end{split}$$\n",
        "\n",
        "Thus, we obtain\n",
        "\n",
        "$$E(A) = \\sum_{j=k+1}^n E(A_j) = \\sum_{j=k+1}^n \\int_0^1 \\prod_{i=1}^k (1 - y^{w_i / w_j})\\,dy\\text{.}$$\n",
        "\n",
        "Let's verify this now, by taking $n = 10$, $k = 3$, and by arbitrarily letting the weights $w_i$ simply be $i$. Then some tedious integration work predicts that\n",
        "\n",
        "$$E(A) = \\frac{7}{90} + \\frac{37}{693} + \\frac{59}{1540} + \\frac{293}{10296} + \\frac{89}{4095} + \\frac{17}{1001} + \\frac{25}{1848} = \\frac{683}{2730} \\approx 0.25\\text{.}$$\n",
        "\n",
        "In view of the fact that many denominators of the summand are relatively prime, it is somewhat remarkable that the resulting fraction is so simple. In any case, let's verify this result numerically."
      ]
    },
    {
      "cell_type": "code",
      "metadata": {
        "colab": {
          "base_uri": "https://localhost:8080/",
          "height": 298
        },
        "id": "n9LVjDNNjnn8",
        "outputId": "9c0b74dc-c298-43a9-9fb3-2da4cb691161"
      },
      "source": [
        "#Editable parameters\n",
        "n = 10\n",
        "k = 3\n",
        "CELLS = [i for i in range(n)] #The cells run from 0 to n - 1 rather than from 1 to n.\n",
        "TARGETS = [i for i in range(k)]\n",
        "WEIGHTS = {i : i + 1 for i in range(n)}\n",
        "rounds = 10000\n",
        "\n",
        "counts = {i : 0 for i in range(n)} #Keep track of amount of remaining cells\n",
        "\n",
        "for _ in range(rounds):\n",
        "  #Initialise parameters\n",
        "  cells = CELLS.copy()\n",
        "  targets = TARGETS.copy()\n",
        "  weights = WEIGHTS.copy()\n",
        "\n",
        "  #Simulate the killing of a cell until the targets are killed\n",
        "  while (cells != [] and cells[0] < k): #since the list of cells is ordered, we can check if cells 0, ..., k-1 are in the list simply by evaluating the 0-th element. \n",
        "    probabilities = [i / sum(weights.values()) for i in weights.values()] #normalised probabilities\n",
        "    i = np.random.choice(cells, p = probabilities)\n",
        "    cells.remove(i)\n",
        "    del weights[i]\n",
        "\n",
        "  #How many cells remain alive?\n",
        "  A = len(cells)\n",
        "  counts[A] += 1\n",
        "\n",
        "output = list(counts.values())\n",
        "\n",
        "plt.bar(range(n), output)\n",
        "plt.xlabel(\"Amount of remaining cells\")\n",
        "plt.xticks(range(n))\n",
        "plt.show()\n",
        "\n",
        "total = sum(counts[i] * i for i in range(n))\n",
        "print(\"On average, the amount of remaining cells is\", total / rounds)"
      ],
      "execution_count": null,
      "outputs": [
        {
          "output_type": "display_data",
          "data": {
            "image/png": "[encoded data removed]",
            "text/plain": [
              "<Figure size 432x288 with 1 Axes>"
            ]
          },
          "metadata": {
            "tags": [],
            "needs_background": "light"
          }
        },
        {
          "output_type": "stream",
          "text": [
            "On average, the amount of remaining cells is 0.2431\n"
          ],
          "name": "stdout"
        }
      ]
    },
    {
      "cell_type": "markdown",
      "metadata": {
        "id": "INcwxdm6gKCs"
      },
      "source": [
        "**Example 5.17 (Coupon collector's problem).** There are $m$ different types of coupons. Every time you get a coupon it is of type $i$ with probability $p_i$. What is the expected amount of time required to get all $m$ coupons?\n",
        "\n",
        "*Solution:* Let's write $N_i$ for the number of coupons you need until you encounter one of type $i$. Then $N = \\max_i N_i$. Although the $N_i$ are geometric with parameter $p_i$, they aren't independent. But we can relate the problem to one where we do have independence. Namely, we shall assume that coupons are collected at times according to a Poisson process with rate $1$. Say that an event of this process is of type $i$ if the coupon happens to be a coupon of type $i$. Now write $N_i(t)$ for the number of type-$i$ coupons collected by time $t$. Then these are *independent* Poisson processes of rates $p_i$. \n",
        "\n",
        "Let $X_i$ be the time of the first event of the $i$-th process. Denoting by $X = \\max_i X_i$, the expected value $E(X)$ is the average amount of time it takes to obtain a complete set of coupons. To compute $E(X)$, we observe that\n",
        "\n",
        "$$P(X < t) = P(X_i < t \\text{ for all $i$}) = \\prod_{i=1}^m (1 - e^{-p_it})\\text{,}$$\n",
        "\n",
        "and so\n",
        "\n",
        "$$E(X) = \\int_0^\\infty P(X > t) \\,dt\\text{,}\\tag{$*$}$$\n",
        "\n",
        "which we can evaluate. But how is $E(X)$, the expected amount of time to obtain a complete set, related to $E(N)$, the expected number of coupons it takes? Well, if we denote by $T_i$ the interarrival time between the $(i-1)$-th coupon and the $i$-th coupon, then $X = \\sum_{i=1}^N T_i$, virtually by definition. But the $T_i$ are independent exponentials of rate $1$, and $N$ is independent of the $T_i$, and so \n",
        "\n",
        "$$E(X \\mid N) = N \\,E(T_i) = N\\text{,}$$\n",
        "\n",
        "from which we see that $E(X) = E(N)$. As the left-hand side can be evaluated using $(*)$, so can $E(N)$, and we're done. \n",
        "\n",
        "Let's now consider an explicit example, involving $50$ coupons of varying prevalence."
      ]
    },
    {
      "cell_type": "code",
      "metadata": {
        "colab": {
          "base_uri": "https://localhost:8080/",
          "height": 279
        },
        "id": "cxAJ3oh_8Fcc",
        "outputId": "151b13e0-d374-4c04-9127-84d946e4d26b"
      },
      "source": [
        "#Editable parameter\n",
        "probabilities = [1] * 5 + [5] * 10 + [20] * 35\n",
        "\n",
        "m = len(probabilities) #Infer number of coupons\n",
        "probabilities = [p / sum(probabilities) for p in probabilities] #Normalise probabilities\n",
        "\n",
        "output = []\n",
        "\n",
        "for _ in range(500):\n",
        "  drawn_coupons = [0] * m\n",
        "\n",
        "  while 0 in drawn_coupons:\n",
        "    coupon = np.random.choice(range(m), p = probabilities)\n",
        "    drawn_coupons[coupon] += 1\n",
        "  \n",
        "  total = sum(drawn_coupons)\n",
        "  output.append(total)\n",
        "\n",
        "plt.hist(output, bins = np.arange(0, 6000, 100), rwidth = 0.8)\n",
        "plt.xlabel(\"Number of required coupons\")\n",
        "plt.show()"
      ],
      "execution_count": null,
      "outputs": [
        {
          "output_type": "display_data",
          "data": {
            "image/png": "[encoded data removed]",
            "text/plain": [
              "<Figure size 432x288 with 1 Axes>"
            ]
          },
          "metadata": {
            "tags": [],
            "needs_background": "light"
          }
        }
      ]
    },
    {
      "cell_type": "markdown",
      "metadata": {
        "id": "fkB7SwZVL_cA"
      },
      "source": [
        "In the special case that the probabilities of all coupons are the same, this problem is known as the coupon collector's problem; in this case, the expected number of coupons one needs to buy grows as $\\Theta(n \\log n)$."
      ]
    },
    {
      "cell_type": "markdown",
      "metadata": {
        "id": "SYj5rW-zh99c"
      },
      "source": [
        "**Example 5.18, 5.25 ($M / G / \\infty$ queue).** Customers arrive at a service station in accordance with a Poisson process of rate $\\lambda$. Upon arrival, the customer is served by one of an infinite number of possible servers; the service times are independent, with cumulative distribution $G$. Let $X(t)$ be the number of customers that have completed service by time $t$, and $Y(t)$ be the number of customers being served at time $t$. What are their distributions?\n",
        "\n",
        "The distribution of $X(t)$, we claim, is Poisson distributed with mean $\\lambda \\int_0^t G(y)\\,dy$. Likewise, $Y(t)$ is Poisson distributed with mean $\\lambda \\int_0^t 1 - G(y)\\,dy$. In particular, this makes both statistics into a nonhomogeneous Poisson process. The proof is rather formal, so I'll omit it.\n",
        "\n",
        "Let's confirm it numerically in the special case of an $M/M/\\infty$ queue, in which the service time distribution $G$ is also assumed to be exponential, say of rate $\\mu$. Then a direct calculation shows that $Y(t)$ has mean \n",
        "\n",
        "$$\\frac{\\lambda}{\\mu} \\big(1 - e^{-\\mu t}\\big)\\text{.}$$\n",
        "\n",
        "To simulate the queue, we choose to discretise the time into small steps, and we use the fact that Poisson processes can be approximated arbitrarily well by uniformly sampling at each time step. As soon as a customer arrives, we compute his service time; for this, no discretisation is needed, as we can simply sample the time from an exponential distribution. In fact, no discretisation is needed at all for this simulation, but it becomes the more versatile option once our processes become more advanced."
      ]
    },
    {
      "cell_type": "code",
      "metadata": {
        "colab": {
          "base_uri": "https://localhost:8080/",
          "height": 279
        },
        "id": "uAoWxLyFdKIA",
        "outputId": "72e0a3f3-d8fe-4982-b3fd-4d75b984635a"
      },
      "source": [
        "#Editable parameters\n",
        "time_step = 1 / 1000 #Smaller time steps means more accurate approximation\n",
        "end_time = 30\n",
        "arrival_rate = 10\n",
        "service_rate = 1\n",
        "\n",
        "queue = [] #Keeps track of the queue at a given time\n",
        "data = [] #Keeps track of the length of the queue over time\n",
        "time = 0 #Keeps track of the time\n",
        "while time < end_time:\n",
        "  time += time_step\n",
        "\n",
        "  #We model the random arrival of customers\n",
        "  p = np.random.rand()\n",
        "  if p < time_step * arrival_rate:\n",
        "    service_time = np.random.exponential(scale = service_rate)\n",
        "    leave_time = time + service_time\n",
        "    queue.append(leave_time) #A customer will be specified by the time he leaves the store\n",
        "  customers = len(queue)\n",
        "  data.append(customers)\n",
        "\n",
        "  #A customer leaves the store if his value is surpassed by the current time\n",
        "  queue = [customer for customer in queue if customer > time] \n",
        "\n",
        "plt.plot(np.linspace(0, end_time, len(data)), data)\n",
        "\n",
        "def mean(t):\n",
        "  return arrival_rate * (1 - math.exp(-service_rate * t)) / service_rate\n",
        "\n",
        "plt.plot([mean(t) for t in range(end_time + 1)])\n",
        "plt.xlabel(\"Time\")\n",
        "plt.ylabel(\"Number of customers\")\n",
        "plt.show()"
      ],
      "execution_count": 19,
      "outputs": [
        {
          "output_type": "display_data",
          "data": {
            "image/png": "[encoded data removed]",
            "text/plain": [
              "<Figure size 432x288 with 1 Axes>"
            ]
          },
          "metadata": {
            "tags": [],
            "needs_background": "light"
          }
        }
      ]
    },
    {
      "cell_type": "markdown",
      "metadata": {
        "id": "xb-VhW_OcLs8"
      },
      "source": [
        "##Section 6"
      ]
    },
    {
      "cell_type": "markdown",
      "metadata": {
        "id": "HLiYcEnfiL7M"
      },
      "source": [
        "**Example 6.5 ($M / M / 1$ queue).** Customers arrive at a single-server service stations in accordance with a Poisson process having rate $\\lambda$. Upon arrival, each customer goes directly into service if the server is free; if not, he joins the queue. When the server finishes serving a customer, the customer leaves the system, and the next customer in line enters the service. The successive service times are also a Poisson process, of rate $\\mu$. "
      ]
    },
    {
      "cell_type": "markdown",
      "metadata": {
        "id": "d-3x4QRPiSo4"
      },
      "source": [
        "**Example 6.6 ($M / M / s$ queue).**"
      ]
    },
    {
      "cell_type": "markdown",
      "metadata": {
        "id": "K4wrCeB_fjJo"
      },
      "source": [
        "**Example 6.13.** A job shop consists of $M$ machines and a serviceman. The amount of time that each machine runs before breaking down is exponentially distributed with rate $\\lambda$. Suppose that the amount of time it takes to fix a machine is exponentially distributed with rate $\\mu$. What is the average number of machines (not) in use? What is the proportion of time they are in use?"
      ]
    },
    {
      "cell_type": "markdown",
      "metadata": {
        "id": "D9kqxv_acM7E"
      },
      "source": [
        "##Section 7"
      ]
    },
    {
      "cell_type": "markdown",
      "metadata": {
        "id": "Hq0sb_f5fIlo"
      },
      "source": [
        "**Example 7.13.** Customers arrive at a train depot in accordance with a renewal process, say with rate of arrivals equal to $10$. Whenever there are $N$ customers waiting in the depot, a train leaves. Any such departure costs $100$ dollars. However, the depot moreover incurs a continual cost at a rate of $n$ dollars per unit time whenever there are $n$ customers waiting. How do we choose $N$ so as to minimise the average cost incurred per train departure?\n",
        "\n",
        "Certainly a very low $N$ will be problematic, as it will lead to too many costly departures, but a very high $N$ also becomes expensive, as the average cost increases once more people are waiting. So we expect to find a certain optimum. Where can we find this optimum?"
      ]
    },
    {
      "cell_type": "code",
      "metadata": {
        "colab": {
          "base_uri": "https://localhost:8080/",
          "height": 281
        },
        "id": "7PFtSK27Ndjg",
        "outputId": "d15536fa-1da3-43df-e902-d380b2830aef"
      },
      "source": [
        "#Editable parameters\n",
        "rate = 10\n",
        "continual_costs = 1\n",
        "departure_cost = 100\n",
        "min_N = 5 #Minimum N to try out\n",
        "max_N = 100 #Maximum N to try out\n",
        "\n",
        "max_time = 1000 #We let the simulation run for this amount of units time\n",
        "\n",
        "data = [] #Keep track of the costs for varying N\n",
        "\n",
        "for N in range(min_N, max_N):\n",
        "  time = 0\n",
        "  cost = 0\n",
        "  passengers = 0\n",
        "  while time < max_time:\n",
        "    #As the process is Poisson, the mean interarrival time is exponentially distributed\n",
        "    interarrival_time = np.random.exponential(scale = 1 / rate)\n",
        "    cost += continual_costs * passengers * interarrival_time\n",
        "    time += interarrival_time\n",
        "    passengers += 1\n",
        "    if passengers == N:\n",
        "      passengers = 0\n",
        "      cost += departure_cost\n",
        "  data.append(cost)\n",
        "\n",
        "plt.plot(range(min_N, max_N), data)\n",
        "plt.xlabel(r\"$N$\")\n",
        "plt.ylabel(\"Cost over a given time\")\n",
        "plt.show()"
      ],
      "execution_count": null,
      "outputs": [
        {
          "output_type": "display_data",
          "data": {
            "image/png": "[encoded data removed]",
            "text/plain": [
              "<Figure size 432x288 with 1 Axes>"
            ]
          },
          "metadata": {
            "tags": [],
            "needs_background": "light"
          }
        }
      ]
    },
    {
      "cell_type": "markdown",
      "metadata": {
        "id": "5WrVHCbpT_FY"
      },
      "source": [
        "As expected, we observe an optimum for intermediate $N$, which appears to roughly lie between $40$ and $50$. Can we confirm this mathematically? Let's say that a 'cycle' is completed whenever a train leaves. Denote by $t_i$ the time between the $i$-th arrival and the $(i+1)$-th arrival in some cycle. Then\n",
        "\n",
        "$$E(\\text{cost of a cycle}) = E\\big(t_1 + 2t_2 + \\cdots + (N-1) t_{N-1}\\big)\\text{.}$$\n",
        "\n",
        "The $t_i$ are exponentially distributed, with expected value $1/10$, and so we find the expected cost of a cycle to evaluate to $N(N - 1) / 20$.\n",
        "\n",
        "On average, the length of a cycle in $N / 10$. How many cycles do we then expect to see in $T = 1000$ units time? The answer is $1000 / (N / 10)$ of course. But associated to the end of each cycle is moreover a constant cost of $100$, corresponding to the departure of the train. We thus find that\n",
        "\n",
        "$$\\begin{split}\n",
        "E(\\text{cost in $1000$ units time}) &= \\frac{10000}{N} \\cdot \\bigg(\\frac{N(N-1)}{20} + 100\\bigg) \\\\\n",
        "&= 500(N-1) + \\frac{1\\,000\\,000}{N} \\text{.}\n",
        "\\end{split}$$\n",
        "\n",
        "This function has admits a global minimum at $N = 20 \\sqrt{5}$, which evaluates to around $45$ --- a value consistent with our observations. Let's graph this function to make sure our predictions are correct."
      ]
    },
    {
      "cell_type": "code",
      "metadata": {
        "colab": {
          "base_uri": "https://localhost:8080/",
          "height": 281
        },
        "id": "GhDmTQgQWFF8",
        "outputId": "80623ad8-a9ae-43d6-c34f-9a8509df6435"
      },
      "source": [
        "min_N = 5 \n",
        "max_N = 100 \n",
        "\n",
        "def E(N):\n",
        "  return 500 * (N - 1) + 1000000 / N\n",
        "\n",
        "plt.plot([E(i) for i in range(min_N, max_N)])\n",
        "plt.xlabel(r\"$N$\")\n",
        "plt.ylabel(r\"Expected cost\")\n",
        "plt.show()"
      ],
      "execution_count": null,
      "outputs": [
        {
          "output_type": "display_data",
          "data": {
            "image/png": "[encoded data removed]",
            "text/plain": [
              "<Figure size 432x288 with 1 Axes>"
            ]
          },
          "metadata": {
            "tags": [],
            "needs_background": "light"
          }
        }
      ]
    },
    {
      "cell_type": "markdown",
      "metadata": {
        "id": "n8_h4L5efVZ8"
      },
      "source": [
        "**Example 7.25.**"
      ]
    },
    {
      "cell_type": "markdown",
      "metadata": {
        "id": "lDIr0H4CcOjw"
      },
      "source": [
        "##Section 8"
      ]
    },
    {
      "cell_type": "markdown",
      "metadata": {
        "id": "dessrJFNcQKU"
      },
      "source": [
        "**Example 8.3 (Inspection paradox).**"
      ]
    },
    {
      "cell_type": "markdown",
      "metadata": {
        "id": "2c73_xnFcTh8"
      },
      "source": [
        "**Section 8.3.3.**"
      ]
    },
    {
      "cell_type": "markdown",
      "metadata": {
        "id": "Q3y8A1pvcZqI"
      },
      "source": [
        "**Section 8.3.4.**"
      ]
    },
    {
      "cell_type": "markdown",
      "metadata": {
        "id": "COJk8rREdKEk"
      },
      "source": [
        "**Section 8.5.2 (Pollaczek--Khintchine formula).**"
      ]
    },
    {
      "cell_type": "markdown",
      "metadata": {
        "id": "TwiTeNJNcp2E"
      },
      "source": [
        "**Section 8.9.4 ($M/G/k$ queue).**"
      ]
    },
    {
      "cell_type": "code",
      "metadata": {
        "id": "5wl6x6Lmc26A"
      },
      "source": [
        ""
      ],
      "execution_count": null,
      "outputs": []
    }
  ]
}